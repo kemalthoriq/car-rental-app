{
  "nbformat": 4,
  "nbformat_minor": 0,
  "metadata": {
    "colab": {
      "provenance": [],
      "authorship_tag": "ABX9TyPsGdCmrw95Csw6f28huYw4",
      "include_colab_link": true
    },
    "kernelspec": {
      "name": "python3",
      "display_name": "Python 3"
    },
    "language_info": {
      "name": "python"
    }
  },
  "cells": [
    {
      "cell_type": "markdown",
      "metadata": {
        "id": "view-in-github",
        "colab_type": "text"
      },
      "source": [
        "<a href=\"https://colab.research.google.com/github/kemalthoriq/car-rental-app/blob/master/sentiment_analyze.ipynb\" target=\"_parent\"><img src=\"https://colab.research.google.com/assets/colab-badge.svg\" alt=\"Open In Colab\"/></a>"
      ]
    },
    {
      "cell_type": "code",
      "execution_count": null,
      "metadata": {
        "colab": {
          "base_uri": "https://localhost:8080/"
        },
        "id": "6efu4f2pYMEw",
        "outputId": "5e69da5e-beda-4018-e5a1-128c8d3ad3da"
      },
      "outputs": [
        {
          "output_type": "stream",
          "name": "stdout",
          "text": [
            "Requirement already satisfied: pandas in /usr/local/lib/python3.11/dist-packages (2.2.2)\n",
            "Requirement already satisfied: numpy>=1.23.2 in /usr/local/lib/python3.11/dist-packages (from pandas) (1.26.4)\n",
            "Requirement already satisfied: python-dateutil>=2.8.2 in /usr/local/lib/python3.11/dist-packages (from pandas) (2.8.2)\n",
            "Requirement already satisfied: pytz>=2020.1 in /usr/local/lib/python3.11/dist-packages (from pandas) (2024.2)\n",
            "Requirement already satisfied: tzdata>=2022.7 in /usr/local/lib/python3.11/dist-packages (from pandas) (2024.2)\n",
            "Requirement already satisfied: six>=1.5 in /usr/local/lib/python3.11/dist-packages (from python-dateutil>=2.8.2->pandas) (1.17.0)\n"
          ]
        }
      ],
      "source": [
        "!pip install pandas"
      ]
    },
    {
      "cell_type": "markdown",
      "source": [
        "## 1. Crawling Data BPJS Twitter"
      ],
      "metadata": {
        "id": "ATXnM60qYMsw"
      }
    },
    {
      "cell_type": "code",
      "source": [
        "# Crawl Data Twitter BPJS\n",
        "\n",
        "filename = \"bpjs_tweets.csv\"\n",
        "search_keyword = \"bpjs\"\n",
        "\n",
        "limit = 1000\n",
        "\n",
        "!npx --yes tweet-harvest@latest -o \"{filename}\" -s \"{search_keyword}\" -l {limit} -- token\n",
        "\n",
        "## Token Tweet : 47705bcd5b4dda8552a013d385f29339133ca7a4"
      ],
      "metadata": {
        "colab": {
          "base_uri": "https://localhost:8080/"
        },
        "id": "B85UpCnTYoyw",
        "outputId": "01a14327-1373-4553-a88e-e9aa33da4f17",
        "collapsed": true
      },
      "execution_count": null,
      "outputs": [
        {
          "output_type": "stream",
          "name": "stdout",
          "text": [
            "\u001b[1G\u001b[0K⠙\u001b[1G\u001b[0K⠹\u001b[1G\u001b[0K⠸\u001b[1G\u001b[0K⠼\u001b[1G\u001b[0K⠴\u001b[1G\u001b[0K⠦\u001b[1G\u001b[0K\u001b[1m\u001b[32mTweet Harvest [v2.6.1]\u001b[39m\u001b[22m\n",
            "\u001b[1m\u001b[32m\u001b[39m\u001b[22m\n",
            "\u001b[34mResearch by \u001b[39m\u001b[1m\u001b[34mHelmi Satria\u001b[39m\u001b[22m\u001b[34m\u001b[39m\n",
            "\u001b[34mUse it for Educational Purposes only!\u001b[39m\n",
            "\u001b[34m\u001b[39m\n",
            "\u001b[33mThis script uses Chromium Browser to crawl data from Twitter with \u001b[1myour Twitter auth token\u001b[22m.\u001b[39m\n",
            "\u001b[33mPlease enter your Twitter auth token when prompted.\u001b[39m\n",
            "\u001b[33m\u001b[39m\n",
            "\u001b[31m\u001b[1mNote:\u001b[22m\u001b[39m Keep your access token secret! Don't share it with anyone else.\n",
            "\u001b[31m\u001b[1mNote:\u001b[22m\u001b[39m This script only runs on your local device.\n",
            "\n",
            "\u001b[2K\u001b[1G\u001b[36m?\u001b[39m \u001b[1mWhat's your Twitter auth token?\u001b[22m \u001b[90m›\u001b[39m \u001b7\u001b8\u001b[2K\u001b[1G\u001b[2K\u001b[1G\u001b[36m?\u001b[39m \u001b[1mWhat's your Twitter auth token?\u001b[22m \u001b[90m›\u001b[39m *\u001b7\u001b8\u001b[2K\u001b[1G\u001b[2K\u001b[1G\u001b[36m?\u001b[39m \u001b[1mWhat's your Twitter auth token?\u001b[22m \u001b[90m›\u001b[39m **\u001b7\u001b8\u001b[2K\u001b[1G\u001b[2K\u001b[1G\u001b[36m?\u001b[39m \u001b[1mWhat's your Twitter auth token?\u001b[22m \u001b[90m›\u001b[39m ***\u001b7\u001b8\u001b[2K\u001b[1G\u001b[2K\u001b[1G\u001b[36m?\u001b[39m \u001b[1mWhat's your Twitter auth token?\u001b[22m \u001b[90m›\u001b[39m ****\u001b7\u001b8\u001b[2K\u001b[1G\u001b[2K\u001b[1G\u001b[36m?\u001b[39m \u001b[1mWhat's your Twitter auth token?\u001b[22m \u001b[90m›\u001b[39m *****\u001b7\u001b8\u001b[2K\u001b[1G\u001b[2K\u001b[1G\u001b[36m?\u001b[39m \u001b[1mWhat's your Twitter auth token?\u001b[22m \u001b[90m›\u001b[39m ******\u001b7\u001b8\u001b[2K\u001b[1G\u001b[2K\u001b[1G\u001b[36m?\u001b[39m \u001b[1mWhat's your Twitter auth token?\u001b[22m \u001b[90m›\u001b[39m *******\u001b7\u001b8\u001b[2K\u001b[1G\u001b[2K\u001b[1G\u001b[36m?\u001b[39m \u001b[1mWhat's your Twitter auth token?\u001b[22m \u001b[90m›\u001b[39m ********\u001b7\u001b8\u001b[2K\u001b[1G\u001b[2K\u001b[1G\u001b[36m?\u001b[39m \u001b[1mWhat's your Twitter auth token?\u001b[22m \u001b[90m›\u001b[39m *********\u001b7\u001b8\u001b[2K\u001b[1G\u001b[2K\u001b[1G\u001b[36m?\u001b[39m \u001b[1mWhat's your Twitter auth token?\u001b[22m \u001b[90m›\u001b[39m **********\u001b7\u001b8\u001b[2K\u001b[1G\u001b[2K\u001b[1G\u001b[36m?\u001b[39m \u001b[1mWhat's your Twitter auth token?\u001b[22m \u001b[90m›\u001b[39m ***********\u001b7\u001b8\u001b[2K\u001b[1G\u001b[2K\u001b[1G\u001b[36m?\u001b[39m \u001b[1mWhat's your Twitter auth token?\u001b[22m \u001b[90m›\u001b[39m ************\u001b7\u001b8\u001b[2K\u001b[1G\u001b[2K\u001b[1G\u001b[36m?\u001b[39m \u001b[1mWhat's your Twitter auth token?\u001b[22m \u001b[90m›\u001b[39m *************\u001b7\u001b8\u001b[2K\u001b[1G\u001b[2K\u001b[1G\u001b[36m?\u001b[39m \u001b[1mWhat's your Twitter auth token?\u001b[22m \u001b[90m›\u001b[39m **************\u001b7\u001b8\u001b[2K\u001b[1G\u001b[2K\u001b[1G\u001b[36m?\u001b[39m \u001b[1mWhat's your Twitter auth token?\u001b[22m \u001b[90m›\u001b[39m ***************\u001b7\u001b8\u001b[2K\u001b[1G\u001b[2K\u001b[1G\u001b[36m?\u001b[39m \u001b[1mWhat's your Twitter auth token?\u001b[22m \u001b[90m›\u001b[39m ****************\u001b7\u001b8\u001b[2K\u001b[1G\u001b[2K\u001b[1G\u001b[36m?\u001b[39m \u001b[1mWhat's your Twitter auth token?\u001b[22m \u001b[90m›\u001b[39m *****************\u001b7\u001b8\u001b[2K\u001b[1G\u001b[2K\u001b[1G\u001b[36m?\u001b[39m \u001b[1mWhat's your Twitter auth token?\u001b[22m \u001b[90m›\u001b[39m ******************\u001b7\u001b8\u001b[2K\u001b[1G\u001b[2K\u001b[1G\u001b[36m?\u001b[39m \u001b[1mWhat's your Twitter auth token?\u001b[22m \u001b[90m›\u001b[39m *******************\u001b7\u001b8\u001b[2K\u001b[1G\u001b[2K\u001b[1G\u001b[36m?\u001b[39m \u001b[1mWhat's your Twitter auth token?\u001b[22m \u001b[90m›\u001b[39m ********************\u001b7\u001b8\u001b[2K\u001b[1G\u001b[2K\u001b[1G\u001b[36m?\u001b[39m \u001b[1mWhat's your Twitter auth token?\u001b[22m \u001b[90m›\u001b[39m *********************\u001b7\u001b8\u001b[2K\u001b[1G\u001b[2K\u001b[1G\u001b[36m?\u001b[39m \u001b[1mWhat's your Twitter auth token?\u001b[22m \u001b[90m›\u001b[39m **********************\u001b7\u001b8\u001b[2K\u001b[1G\u001b[2K\u001b[1G\u001b[36m?\u001b[39m \u001b[1mWhat's your Twitter auth token?\u001b[22m \u001b[90m›\u001b[39m ***********************\u001b7\u001b8\u001b[2K\u001b[1G\u001b[2K\u001b[1G\u001b[36m?\u001b[39m \u001b[1mWhat's your Twitter auth token?\u001b[22m \u001b[90m›\u001b[39m ************************\u001b7\u001b8\u001b[2K\u001b[1G\u001b[2K\u001b[1G\u001b[36m?\u001b[39m \u001b[1mWhat's your Twitter auth token?\u001b[22m \u001b[90m›\u001b[39m *************************\u001b7\u001b8\u001b[2K\u001b[1G\u001b[2K\u001b[1G\u001b[36m?\u001b[39m \u001b[1mWhat's your Twitter auth token?\u001b[22m \u001b[90m›\u001b[39m **************************\u001b7\u001b8\u001b[2K\u001b[1G\u001b[2K\u001b[1G\u001b[36m?\u001b[39m \u001b[1mWhat's your Twitter auth token?\u001b[22m \u001b[90m›\u001b[39m ***************************\u001b7\u001b8\u001b[2K\u001b[1G\u001b[2K\u001b[1G\u001b[36m?\u001b[39m \u001b[1mWhat's your Twitter auth token?\u001b[22m \u001b[90m›\u001b[39m ****************************\u001b7\u001b8\u001b[2K\u001b[1G\u001b[2K\u001b[1G\u001b[36m?\u001b[39m \u001b[1mWhat's your Twitter auth token?\u001b[22m \u001b[90m›\u001b[39m *****************************\u001b7\u001b8\u001b[2K\u001b[1G\u001b[2K\u001b[1G\u001b[36m?\u001b[39m \u001b[1mWhat's your Twitter auth token?\u001b[22m \u001b[90m›\u001b[39m ******************************\u001b7\u001b8\u001b[2K\u001b[1G\u001b[2K\u001b[1G\u001b[36m?\u001b[39m \u001b[1mWhat's your Twitter auth token?\u001b[22m \u001b[90m›\u001b[39m *******************************\u001b7\u001b8\u001b[2K\u001b[1G\u001b[2K\u001b[1G\u001b[36m?\u001b[39m \u001b[1mWhat's your Twitter auth token?\u001b[22m \u001b[90m›\u001b[39m ********************************\u001b7\u001b8\u001b[2K\u001b[1G\u001b[2K\u001b[1G\u001b[36m?\u001b[39m \u001b[1mWhat's your Twitter auth token?\u001b[22m \u001b[90m›\u001b[39m *********************************\u001b7\u001b8\u001b[2K\u001b[1G\u001b[2K\u001b[1G\u001b[36m?\u001b[39m \u001b[1mWhat's your Twitter auth token?\u001b[22m \u001b[90m›\u001b[39m **********************************\u001b7\u001b8\u001b[2K\u001b[1G\u001b[2K\u001b[1G\u001b[36m?\u001b[39m \u001b[1mWhat's your Twitter auth token?\u001b[22m \u001b[90m›\u001b[39m ***********************************\u001b7\u001b8\u001b[2K\u001b[1G\u001b[2K\u001b[1G\u001b[36m?\u001b[39m \u001b[1mWhat's your Twitter auth token?\u001b[22m \u001b[90m›\u001b[39m ************************************\u001b7\u001b8\u001b[2K\u001b[1G\u001b[2K\u001b[1G\u001b[36m?\u001b[39m \u001b[1mWhat's your Twitter auth token?\u001b[22m \u001b[90m›\u001b[39m *************************************\u001b7\u001b8\u001b[2K\u001b[1G\u001b[2K\u001b[1G\u001b[36m?\u001b[39m \u001b[1mWhat's your Twitter auth token?\u001b[22m \u001b[90m›\u001b[39m **************************************\u001b7\u001b8\u001b[2K\u001b[1G\u001b[2K\u001b[1G\u001b[36m?\u001b[39m \u001b[1mWhat's your Twitter auth token?\u001b[22m \u001b[90m›\u001b[39m ***************************************\u001b7\u001b8\u001b[2K\u001b[1G\u001b[2K\u001b[1G\u001b[36m?\u001b[39m \u001b[1mWhat's your Twitter auth token?\u001b[22m \u001b[90m›\u001b[39m ****************************************\u001b7\u001b8\u001b[2K\u001b[1G\u001b[2K\u001b[1G\u001b[32m✔\u001b[39m \u001b[1mWhat's your Twitter auth token?\u001b[22m \u001b[90m…\u001b[39m ****************************************\u001b7\u001b8\n",
            "\u001b[?25h\u001b[34m\u001b[39m\n",
            "\u001b[34mOpening twitter search page...\u001b[39m\n",
            "\u001b[34m\u001b[39m\n",
            "\u001b[34m\u001b[39m\n",
            "\u001b[34mFound existing file ./tweets-data/bpjs_tweets.csv, renaming to ./tweets-data/bpjs_tweets.old.csv\u001b[39m\n",
            "\u001b[90m\u001b[39m\n",
            "\u001b[90m-- Scrolling... (1)\u001b[39m\u001b[33m\u001b[39m\n",
            "\u001b[33mFilling in keywords: bpjs\u001b[39m\n",
            "\u001b[33m\u001b[39m\n",
            "\u001b[90m (2)\u001b[39m\u001b[90m (3)\u001b[39m\u001b[34m\u001b[39m\n",
            "\u001b[34m\u001b[39m\n",
            "\u001b[34mYour tweets saved to: /content/tweets-data/bpjs_tweets.csv\u001b[39m\n",
            "\u001b[33mTotal tweets saved: 19\u001b[39m\n",
            "\u001b[90m\u001b[39m\n",
            "\u001b[90m-- Scrolling... (1)\u001b[39m\u001b[34m\u001b[39m\n",
            "\u001b[34m\u001b[39m\n",
            "\u001b[34mYour tweets saved to: /content/tweets-data/bpjs_tweets.csv\u001b[39m\n",
            "\u001b[33mTotal tweets saved: 39\u001b[39m\n",
            "\u001b[90m\u001b[39m\n",
            "\u001b[90m-- Scrolling... (1)\u001b[39m\u001b[90m (2)\u001b[39m\u001b[90m (3)\u001b[39m\u001b[34m\u001b[39m\n",
            "\u001b[34m\u001b[39m\n",
            "\u001b[34mYour tweets saved to: /content/tweets-data/bpjs_tweets.csv\u001b[39m\n",
            "\u001b[33mTotal tweets saved: 59\u001b[39m\n",
            "\u001b[90m\u001b[39m\n",
            "\u001b[90m-- Scrolling... (1)\u001b[39m\u001b[90m (2)\u001b[39m\u001b[34m\u001b[39m\n",
            "\u001b[34m\u001b[39m\n",
            "\u001b[34mYour tweets saved to: /content/tweets-data/bpjs_tweets.csv\u001b[39m\n",
            "\u001b[33mTotal tweets saved: 79\u001b[39m\n",
            "\u001b[90m\u001b[39m\n",
            "\u001b[90m-- Scrolling... (1)\u001b[39m\u001b[90m (2)\u001b[39m\u001b[90m (3)\u001b[39m\u001b[90m (4)\u001b[39m\u001b[90m (5)\u001b[39m\u001b[34m\u001b[39m\n",
            "\u001b[34m\u001b[39m\n",
            "\u001b[34mYour tweets saved to: /content/tweets-data/bpjs_tweets.csv\u001b[39m\n",
            "\u001b[33mTotal tweets saved: 99\u001b[39m\n",
            "\u001b[90m\u001b[39m\n",
            "\u001b[90m-- Scrolling... (1)\u001b[39m\u001b[34m\u001b[39m\n",
            "\u001b[34m\u001b[39m\n",
            "\u001b[34mYour tweets saved to: /content/tweets-data/bpjs_tweets.csv\u001b[39m\n",
            "\u001b[33mTotal tweets saved: 119\u001b[39m\n",
            "\u001b[90m\u001b[39m\n",
            "\u001b[90m--Taking a break, waiting for 10 seconds...\u001b[39m\n",
            "\u001b[90m\u001b[39m\n",
            "\u001b[90m-- Scrolling... (1)\u001b[39m\u001b[34m\u001b[39m\n",
            "\u001b[34m\u001b[39m\n",
            "\u001b[34mYour tweets saved to: /content/tweets-data/bpjs_tweets.csv\u001b[39m\n",
            "\u001b[33mTotal tweets saved: 139\u001b[39m\n",
            "\u001b[90m\u001b[39m\n",
            "\u001b[90m-- Scrolling... (1)\u001b[39m\u001b[90m (2)\u001b[39m\u001b[90m (3)\u001b[39m\u001b[34m\u001b[39m\n",
            "\u001b[34m\u001b[39m\n",
            "\u001b[34mYour tweets saved to: /content/tweets-data/bpjs_tweets.csv\u001b[39m\n",
            "\u001b[33mTotal tweets saved: 155\u001b[39m\n",
            "\u001b[90m\u001b[39m\n",
            "\u001b[90m-- Scrolling... (1)\u001b[39m\u001b[90m (2)\u001b[39m\u001b[90m (3)\u001b[39m\u001b[34m\u001b[39m\n",
            "\u001b[34m\u001b[39m\n",
            "\u001b[34mYour tweets saved to: /content/tweets-data/bpjs_tweets.csv\u001b[39m\n",
            "\u001b[33mTotal tweets saved: 170\u001b[39m\n",
            "\u001b[90m\u001b[39m\n",
            "\u001b[90m-- Scrolling... (1)\u001b[39m\u001b[34m\u001b[39m\n",
            "\u001b[34m\u001b[39m\n",
            "\u001b[34mYour tweets saved to: /content/tweets-data/bpjs_tweets.csv\u001b[39m\n",
            "\u001b[33mTotal tweets saved: 182\u001b[39m\n",
            "\u001b[90m\u001b[39m\n",
            "\u001b[90m-- Scrolling... (1)\u001b[39m\u001b[34m\u001b[39m\n",
            "\u001b[34m\u001b[39m\n",
            "\u001b[34mYour tweets saved to: /content/tweets-data/bpjs_tweets.csv\u001b[39m\n",
            "\u001b[33mTotal tweets saved: 196\u001b[39m\n",
            "\u001b[90m\u001b[39m\n",
            "\u001b[90m-- Scrolling... (1)\u001b[39m\u001b[34m\u001b[39m\n",
            "\u001b[34m\u001b[39m\n",
            "\u001b[34mYour tweets saved to: /content/tweets-data/bpjs_tweets.csv\u001b[39m\n",
            "\u001b[33mTotal tweets saved: 209\u001b[39m\n",
            "\u001b[90m\u001b[39m\n",
            "\u001b[90m-- Scrolling... (1)\u001b[39m\u001b[34m\u001b[39m\n",
            "\u001b[34m\u001b[39m\n",
            "\u001b[34mYour tweets saved to: /content/tweets-data/bpjs_tweets.csv\u001b[39m\n",
            "\u001b[33mTotal tweets saved: 218\u001b[39m\n",
            "\u001b[90m\u001b[39m\n",
            "\u001b[90m-- Scrolling... (1)\u001b[39m\u001b[34m\u001b[39m\n",
            "\u001b[34m\u001b[39m\n",
            "\u001b[34mYour tweets saved to: /content/tweets-data/bpjs_tweets.csv\u001b[39m\n",
            "\u001b[33mTotal tweets saved: 226\u001b[39m\n",
            "\u001b[90m\u001b[39m\n",
            "\u001b[90m--Taking a break, waiting for 10 seconds...\u001b[39m\n",
            "\u001b[90m\u001b[39m\n",
            "\u001b[90m-- Scrolling... (1)\u001b[39m\u001b[34m\u001b[39m\n",
            "\u001b[34m\u001b[39m\n",
            "\u001b[34mYour tweets saved to: /content/tweets-data/bpjs_tweets.csv\u001b[39m\n",
            "\u001b[33mTotal tweets saved: 234\u001b[39m\n",
            "\u001b[90m\u001b[39m\n",
            "\u001b[90m-- Scrolling... (1)\u001b[39m\u001b[90m (2)\u001b[39m\u001b[34m\u001b[39m\n",
            "\u001b[34m\u001b[39m\n",
            "\u001b[34mYour tweets saved to: /content/tweets-data/bpjs_tweets.csv\u001b[39m\n",
            "\u001b[33mTotal tweets saved: 242\u001b[39m\n",
            "\u001b[90m\u001b[39m\n",
            "\u001b[90m-- Scrolling... (1)\u001b[39m\u001b[90m (2)\u001b[39m\u001b[34m\u001b[39m\n",
            "\u001b[34m\u001b[39m\n",
            "\u001b[34mYour tweets saved to: /content/tweets-data/bpjs_tweets.csv\u001b[39m\n",
            "\u001b[33mTotal tweets saved: 250\u001b[39m\n",
            "\u001b[34m\u001b[39m\n",
            "\u001b[34m\u001b[39m\n",
            "\u001b[34mYour tweets saved to: /content/tweets-data/bpjs_tweets.csv\u001b[39m\n",
            "\u001b[33mTotal tweets saved: 257\u001b[39m\n",
            "\u001b[34m\u001b[39m\n",
            "\u001b[34m\u001b[39m\n",
            "\u001b[34mYour tweets saved to: /content/tweets-data/bpjs_tweets.csv\u001b[39m\n",
            "\u001b[33mTotal tweets saved: 264\u001b[39m\n",
            "\u001b[90m\u001b[39m\n",
            "\u001b[90m-- Scrolling... (1)\u001b[39m\u001b[90m (2)\u001b[39m\u001b[34m\u001b[39m\n",
            "\u001b[34m\u001b[39m\n",
            "\u001b[34mYour tweets saved to: /content/tweets-data/bpjs_tweets.csv\u001b[39m\n",
            "\u001b[33mTotal tweets saved: 269\u001b[39m\n",
            "\u001b[34m\u001b[39m\n",
            "\u001b[34m\u001b[39m\n",
            "\u001b[34mYour tweets saved to: /content/tweets-data/bpjs_tweets.csv\u001b[39m\n",
            "\u001b[33mTotal tweets saved: 273\u001b[39m\n",
            "\u001b[34m\u001b[39m\n",
            "\u001b[34m\u001b[39m\n",
            "\u001b[34mYour tweets saved to: /content/tweets-data/bpjs_tweets.csv\u001b[39m\n",
            "\u001b[33mTotal tweets saved: 275\u001b[39m\n",
            "\u001b[34m\u001b[39m\n",
            "\u001b[34m\u001b[39m\n",
            "\u001b[34mYour tweets saved to: /content/tweets-data/bpjs_tweets.csv\u001b[39m\n",
            "\u001b[33mTotal tweets saved: 277\u001b[39m\n",
            "\u001b[90m\u001b[39m\n",
            "\u001b[90m-- Scrolling... (1)\u001b[39m\u001b[90m (2)\u001b[39m\u001b[90m (3)\u001b[39m\u001b[90m (4)\u001b[39m\u001b[90m (5)\u001b[39m\u001b[90m (6)\u001b[39m\u001b[90m (7)\u001b[39m\u001b[90m (8)\u001b[39m\u001b[90m (9)\u001b[39m\u001b[90m (10)\u001b[39m\u001b[90m (11)\u001b[39m\u001b[90m (12)\u001b[39m\u001b[90m (13)\u001b[39m\u001b[90m (14)\u001b[39m\u001b[90m (15)\u001b[39m\u001b[90m (16)\u001b[39m\u001b[90m (17)\u001b[39m\u001b[90m (18)\u001b[39m\u001b[90m (19)\u001b[39m\u001b[90m (20)\u001b[39m\u001b[90m (21)\u001b[39m\u001b[33mNo more tweets found, please check your search criteria and csv file result\u001b[39m\n",
            "\u001b[33mTimeout reached 1 times, making sure again...\u001b[39m\n",
            "\u001b[90m\u001b[39m\n",
            "\u001b[90m-- Scrolling... (1)\u001b[39m\u001b[34m\u001b[39m\n",
            "\u001b[34m\u001b[39m\n",
            "\u001b[34mYour tweets saved to: /content/tweets-data/bpjs_tweets.csv\u001b[39m\n",
            "\u001b[33mTotal tweets saved: 279\u001b[39m\n",
            "\u001b[34m\u001b[39m\n",
            "\u001b[34m\u001b[39m\n",
            "\u001b[34mYour tweets saved to: /content/tweets-data/bpjs_tweets.csv\u001b[39m\n",
            "\u001b[33mTotal tweets saved: 280\u001b[39m\n",
            "\u001b[90m\u001b[39m\n",
            "\u001b[90m-- Scrolling... (1)\u001b[39m\u001b[90m (2)\u001b[39m\u001b[90m (3)\u001b[39m\u001b[90m (4)\u001b[39m\u001b[90m (5)\u001b[39m\u001b[90m (6)\u001b[39m\u001b[90m (7)\u001b[39m\u001b[90m (8)\u001b[39m\u001b[90m (9)\u001b[39m\u001b[90m (10)\u001b[39m\u001b[90m (11)\u001b[39m\u001b[90m (12)\u001b[39m\u001b[90m (13)\u001b[39m\u001b[90m (14)\u001b[39m\u001b[90m (15)\u001b[39m\u001b[90m (16)\u001b[39m\u001b[90m (17)\u001b[39m\u001b[90m (18)\u001b[39m\u001b[90m (19)\u001b[39m\u001b[90m (20)\u001b[39m\u001b[90m (21)\u001b[39m\u001b[33mNo more tweets found, please check your search criteria and csv file result\u001b[39m\n",
            "\u001b[33mTimeout reached 2 times, making sure again...\u001b[39m\n",
            "\u001b[90m\u001b[39m\n",
            "\u001b[90m-- Scrolling... (1)\u001b[39m\u001b[34m\u001b[39m\n",
            "\u001b[34m\u001b[39m\n",
            "\u001b[34mYour tweets saved to: /content/tweets-data/bpjs_tweets.csv\u001b[39m\n",
            "\u001b[33mTotal tweets saved: 281\u001b[39m\n",
            "\u001b[90m\u001b[39m\n",
            "\u001b[90m-- Scrolling... (1)\u001b[39m\u001b[90m (2)\u001b[39m\u001b[90m (3)\u001b[39m\u001b[90m (4)\u001b[39m\u001b[90m (5)\u001b[39m\u001b[90m (6)\u001b[39m\u001b[90m (7)\u001b[39m\u001b[90m (8)\u001b[39m\u001b[90m (9)\u001b[39m\u001b[90m (10)\u001b[39m\u001b[90m (11)\u001b[39m\u001b[90m (12)\u001b[39m\u001b[90m (13)\u001b[39m\u001b[90m (14)\u001b[39m\u001b[90m (15)\u001b[39m\u001b[90m (16)\u001b[39m\u001b[90m (17)\u001b[39m\u001b[90m (18)\u001b[39m\u001b[90m (19)\u001b[39m\u001b[90m (20)\u001b[39m\u001b[90m (21)\u001b[39m\u001b[33mNo more tweets found, please check your search criteria and csv file result\u001b[39m\n",
            "\u001b[33mTimeout reached 3 times, making sure again...\u001b[39m\n",
            "\u001b[90m\u001b[39m\n",
            "\u001b[90m-- Scrolling... (1)\u001b[39m\u001b[34m\u001b[39m\n",
            "\u001b[34m\u001b[39m\n",
            "\u001b[34mYour tweets saved to: /content/tweets-data/bpjs_tweets.csv\u001b[39m\n",
            "\u001b[33mTotal tweets saved: 282\u001b[39m\n",
            "\u001b[90m\u001b[39m\n",
            "\u001b[90m-- Scrolling... (1)\u001b[39m\u001b[90m (2)\u001b[39m\u001b[90m (3)\u001b[39m\u001b[90m (4)\u001b[39m\u001b[90m (5)\u001b[39m\u001b[90m (6)\u001b[39m\u001b[90m (7)\u001b[39m\u001b[90m (8)\u001b[39m\u001b[90m (9)\u001b[39m\u001b[90m (10)\u001b[39m\u001b[90m (11)\u001b[39m\u001b[90m (12)\u001b[39m\u001b[90m (13)\u001b[39m\u001b[90m (14)\u001b[39m\u001b[90m (15)\u001b[39m\u001b[90m (16)\u001b[39m\u001b[90m (17)\u001b[39m\u001b[90m (18)\u001b[39m\u001b[90m (19)\u001b[39m\u001b[90m (20)\u001b[39mGot 282 tweets, done scrolling...\n",
            "\u001b[1G\u001b[0K⠙\u001b[1G\u001b[0K"
          ]
        }
      ]
    },
    {
      "cell_type": "markdown",
      "source": [
        "## 2. Output Data Komentar BPJS di Twitter"
      ],
      "metadata": {
        "id": "XP8jfjX6M0as"
      }
    },
    {
      "cell_type": "code",
      "source": [
        "import pandas as pd\n",
        "\n",
        "filename = \"bpjs_tweets.csv\"\n",
        "\n",
        "file_path = f\"tweets-data/{filename}\"\n",
        "\n",
        "df = pd.read_csv(file_path, delimiter=\",\")\n",
        "\n",
        "display(df)"
      ],
      "metadata": {
        "colab": {
          "base_uri": "https://localhost:8080/",
          "height": 930
        },
        "id": "S3dI4at2ZQjy",
        "outputId": "52638add-3ba1-44c7-b55a-2b2a6a3bd712",
        "collapsed": true
      },
      "execution_count": 32,
      "outputs": [
        {
          "output_type": "display_data",
          "data": {
            "text/plain": [
              "     conversation_id_str                      created_at  favorite_count  \\\n",
              "0    1879836598491373693  Thu Jan 16 15:01:17 +0000 2025              83   \n",
              "1    1877878634352189575  Sat Jan 11 00:42:23 +0000 2025             285   \n",
              "2    1879802051926061492  Thu Jan 16 08:05:08 +0000 2025             341   \n",
              "3    1877710820307530029  Fri Jan 10 15:50:21 +0000 2025             580   \n",
              "4    1879514323955126431  Wed Jan 15 13:01:49 +0000 2025               2   \n",
              "..                   ...                             ...             ...   \n",
              "526  1876999023636238544  Fri Jan 10 04:04:55 +0000 2025               0   \n",
              "527  1877530215720824970  Fri Jan 10 03:19:48 +0000 2025               0   \n",
              "528  1877530215720824970  Fri Jan 10 03:20:43 +0000 2025               0   \n",
              "529  1877656194497511903  Fri Jan 10 09:58:16 +0000 2025               1   \n",
              "530  1877583490063151280  Fri Jan 10 05:09:22 +0000 2025               0   \n",
              "\n",
              "                                             full_text               id_str  \\\n",
              "0    @KangManto123 Si kontil ama pegawai BPJS aja k...  1879906777279729751   \n",
              "1    Apa yang salah dengan sistem BPJS kita?‍️ http...  1877878689352094137   \n",
              "2    BPJS Tak Bisa Tanggung Semua Pengobatan Menkes...  1879802051926061492   \n",
              "3    @worksfess Stop bilang kalo bpjs adalah benefi...  1877744797366280528   \n",
              "4    Ngantri berobat 3 jam cuma buat nunggu nama di...  1879514323955126431   \n",
              "..                                                 ...                  ...   \n",
              "526  @masihadaa Salam Sehat Sahabat. Mohon maaf jik...  1877567269896859772   \n",
              "527  @naastarry Salam. Prosedur untuk penonaktifan ...  1877555918528774438   \n",
              "528  @naastarry Sahabat dapat melakukan pelaporan s...  1877556146124337161   \n",
              "529  mau kemana lagi gue nyari sisaan buat bayar bp...  1877656194497511903   \n",
              "530  Degrees is calling Full time Barista pria/wani...  1877583490063151280   \n",
              "\n",
              "                                           image_url in_reply_to_screen_name  \\\n",
              "0    https://pbs.twimg.com/media/GhbFQF3bIAA6aus.jpg            KangManto123   \n",
              "1    https://pbs.twimg.com/media/Gg-QtWAbcAA0ziJ.jpg                eexxoo_7   \n",
              "2    https://pbs.twimg.com/media/GhZl7eiakAA5l1i.jpg                     NaN   \n",
              "3                                                NaN               worksfess   \n",
              "4                                                NaN                     NaN   \n",
              "..                                               ...                     ...   \n",
              "526                                              NaN               masihadaa   \n",
              "527                                              NaN               naastarry   \n",
              "528                                              NaN               naastarry   \n",
              "529                                              NaN                     NaN   \n",
              "530                                              NaN                     NaN   \n",
              "\n",
              "    lang                location  quote_count  reply_count  retweet_count  \\\n",
              "0     in                     NaN            2            6             24   \n",
              "1     in  DKI Jakarta, Indonesia            6           13             46   \n",
              "2     in                 Jakarta          182          486            148   \n",
              "3     in   Yogyakarta, Indonesia            0            5             12   \n",
              "4     in                     NaN            0            0              0   \n",
              "..   ...                     ...          ...          ...            ...   \n",
              "526   in               Indonesia            0            0              0   \n",
              "527   in               Indonesia            0            0              0   \n",
              "528   in               Indonesia            0            0              0   \n",
              "529   in                     NaN            0            0              0   \n",
              "530   in                     NaN            0            0              0   \n",
              "\n",
              "                                             tweet_url         user_id_str  \\\n",
              "0    https://x.com/rimba890/status/1879906777279729751          2700582162   \n",
              "1    https://x.com/eexxoo_7/status/1877878689352094137          2511596892   \n",
              "2    https://x.com/kompascom/status/187980205192606...            23343960   \n",
              "3    https://x.com/rnrfkhri/status/1877744797366280528          1642806133   \n",
              "4    https://x.com/bendol30/status/1879514323955126431           114376538   \n",
              "..                                                 ...                 ...   \n",
              "526  https://x.com/BPJSKesehatanRI/status/187756726...          1522337929   \n",
              "527  https://x.com/BPJSKesehatanRI/status/187755591...          1522337929   \n",
              "528  https://x.com/BPJSKesehatanRI/status/187755614...          1522337929   \n",
              "529  https://x.com/madmaxeugene/status/187765619449...           620046357   \n",
              "530  https://x.com/loker_subsdagre/status/187758349...  951648179430203392   \n",
              "\n",
              "            username  \n",
              "0           rimba890  \n",
              "1           eexxoo_7  \n",
              "2          kompascom  \n",
              "3           rnrfkhri  \n",
              "4           bendol30  \n",
              "..               ...  \n",
              "526  BPJSKesehatanRI  \n",
              "527  BPJSKesehatanRI  \n",
              "528  BPJSKesehatanRI  \n",
              "529     madmaxeugene  \n",
              "530  loker_subsdagre  \n",
              "\n",
              "[531 rows x 15 columns]"
            ],
            "text/html": [
              "\n",
              "  <div id=\"df-ef09702d-05ff-4842-b74b-25f38dd016d2\" class=\"colab-df-container\">\n",
              "    <div>\n",
              "<style scoped>\n",
              "    .dataframe tbody tr th:only-of-type {\n",
              "        vertical-align: middle;\n",
              "    }\n",
              "\n",
              "    .dataframe tbody tr th {\n",
              "        vertical-align: top;\n",
              "    }\n",
              "\n",
              "    .dataframe thead th {\n",
              "        text-align: right;\n",
              "    }\n",
              "</style>\n",
              "<table border=\"1\" class=\"dataframe\">\n",
              "  <thead>\n",
              "    <tr style=\"text-align: right;\">\n",
              "      <th></th>\n",
              "      <th>conversation_id_str</th>\n",
              "      <th>created_at</th>\n",
              "      <th>favorite_count</th>\n",
              "      <th>full_text</th>\n",
              "      <th>id_str</th>\n",
              "      <th>image_url</th>\n",
              "      <th>in_reply_to_screen_name</th>\n",
              "      <th>lang</th>\n",
              "      <th>location</th>\n",
              "      <th>quote_count</th>\n",
              "      <th>reply_count</th>\n",
              "      <th>retweet_count</th>\n",
              "      <th>tweet_url</th>\n",
              "      <th>user_id_str</th>\n",
              "      <th>username</th>\n",
              "    </tr>\n",
              "  </thead>\n",
              "  <tbody>\n",
              "    <tr>\n",
              "      <th>0</th>\n",
              "      <td>1879836598491373693</td>\n",
              "      <td>Thu Jan 16 15:01:17 +0000 2025</td>\n",
              "      <td>83</td>\n",
              "      <td>@KangManto123 Si kontil ama pegawai BPJS aja k...</td>\n",
              "      <td>1879906777279729751</td>\n",
              "      <td>https://pbs.twimg.com/media/GhbFQF3bIAA6aus.jpg</td>\n",
              "      <td>KangManto123</td>\n",
              "      <td>in</td>\n",
              "      <td>NaN</td>\n",
              "      <td>2</td>\n",
              "      <td>6</td>\n",
              "      <td>24</td>\n",
              "      <td>https://x.com/rimba890/status/1879906777279729751</td>\n",
              "      <td>2700582162</td>\n",
              "      <td>rimba890</td>\n",
              "    </tr>\n",
              "    <tr>\n",
              "      <th>1</th>\n",
              "      <td>1877878634352189575</td>\n",
              "      <td>Sat Jan 11 00:42:23 +0000 2025</td>\n",
              "      <td>285</td>\n",
              "      <td>Apa yang salah dengan sistem BPJS kita?‍️ http...</td>\n",
              "      <td>1877878689352094137</td>\n",
              "      <td>https://pbs.twimg.com/media/Gg-QtWAbcAA0ziJ.jpg</td>\n",
              "      <td>eexxoo_7</td>\n",
              "      <td>in</td>\n",
              "      <td>DKI Jakarta, Indonesia</td>\n",
              "      <td>6</td>\n",
              "      <td>13</td>\n",
              "      <td>46</td>\n",
              "      <td>https://x.com/eexxoo_7/status/1877878689352094137</td>\n",
              "      <td>2511596892</td>\n",
              "      <td>eexxoo_7</td>\n",
              "    </tr>\n",
              "    <tr>\n",
              "      <th>2</th>\n",
              "      <td>1879802051926061492</td>\n",
              "      <td>Thu Jan 16 08:05:08 +0000 2025</td>\n",
              "      <td>341</td>\n",
              "      <td>BPJS Tak Bisa Tanggung Semua Pengobatan Menkes...</td>\n",
              "      <td>1879802051926061492</td>\n",
              "      <td>https://pbs.twimg.com/media/GhZl7eiakAA5l1i.jpg</td>\n",
              "      <td>NaN</td>\n",
              "      <td>in</td>\n",
              "      <td>Jakarta</td>\n",
              "      <td>182</td>\n",
              "      <td>486</td>\n",
              "      <td>148</td>\n",
              "      <td>https://x.com/kompascom/status/187980205192606...</td>\n",
              "      <td>23343960</td>\n",
              "      <td>kompascom</td>\n",
              "    </tr>\n",
              "    <tr>\n",
              "      <th>3</th>\n",
              "      <td>1877710820307530029</td>\n",
              "      <td>Fri Jan 10 15:50:21 +0000 2025</td>\n",
              "      <td>580</td>\n",
              "      <td>@worksfess Stop bilang kalo bpjs adalah benefi...</td>\n",
              "      <td>1877744797366280528</td>\n",
              "      <td>NaN</td>\n",
              "      <td>worksfess</td>\n",
              "      <td>in</td>\n",
              "      <td>Yogyakarta, Indonesia</td>\n",
              "      <td>0</td>\n",
              "      <td>5</td>\n",
              "      <td>12</td>\n",
              "      <td>https://x.com/rnrfkhri/status/1877744797366280528</td>\n",
              "      <td>1642806133</td>\n",
              "      <td>rnrfkhri</td>\n",
              "    </tr>\n",
              "    <tr>\n",
              "      <th>4</th>\n",
              "      <td>1879514323955126431</td>\n",
              "      <td>Wed Jan 15 13:01:49 +0000 2025</td>\n",
              "      <td>2</td>\n",
              "      <td>Ngantri berobat 3 jam cuma buat nunggu nama di...</td>\n",
              "      <td>1879514323955126431</td>\n",
              "      <td>NaN</td>\n",
              "      <td>NaN</td>\n",
              "      <td>in</td>\n",
              "      <td>NaN</td>\n",
              "      <td>0</td>\n",
              "      <td>0</td>\n",
              "      <td>0</td>\n",
              "      <td>https://x.com/bendol30/status/1879514323955126431</td>\n",
              "      <td>114376538</td>\n",
              "      <td>bendol30</td>\n",
              "    </tr>\n",
              "    <tr>\n",
              "      <th>...</th>\n",
              "      <td>...</td>\n",
              "      <td>...</td>\n",
              "      <td>...</td>\n",
              "      <td>...</td>\n",
              "      <td>...</td>\n",
              "      <td>...</td>\n",
              "      <td>...</td>\n",
              "      <td>...</td>\n",
              "      <td>...</td>\n",
              "      <td>...</td>\n",
              "      <td>...</td>\n",
              "      <td>...</td>\n",
              "      <td>...</td>\n",
              "      <td>...</td>\n",
              "      <td>...</td>\n",
              "    </tr>\n",
              "    <tr>\n",
              "      <th>526</th>\n",
              "      <td>1876999023636238544</td>\n",
              "      <td>Fri Jan 10 04:04:55 +0000 2025</td>\n",
              "      <td>0</td>\n",
              "      <td>@masihadaa Salam Sehat Sahabat. Mohon maaf jik...</td>\n",
              "      <td>1877567269896859772</td>\n",
              "      <td>NaN</td>\n",
              "      <td>masihadaa</td>\n",
              "      <td>in</td>\n",
              "      <td>Indonesia</td>\n",
              "      <td>0</td>\n",
              "      <td>0</td>\n",
              "      <td>0</td>\n",
              "      <td>https://x.com/BPJSKesehatanRI/status/187756726...</td>\n",
              "      <td>1522337929</td>\n",
              "      <td>BPJSKesehatanRI</td>\n",
              "    </tr>\n",
              "    <tr>\n",
              "      <th>527</th>\n",
              "      <td>1877530215720824970</td>\n",
              "      <td>Fri Jan 10 03:19:48 +0000 2025</td>\n",
              "      <td>0</td>\n",
              "      <td>@naastarry Salam. Prosedur untuk penonaktifan ...</td>\n",
              "      <td>1877555918528774438</td>\n",
              "      <td>NaN</td>\n",
              "      <td>naastarry</td>\n",
              "      <td>in</td>\n",
              "      <td>Indonesia</td>\n",
              "      <td>0</td>\n",
              "      <td>0</td>\n",
              "      <td>0</td>\n",
              "      <td>https://x.com/BPJSKesehatanRI/status/187755591...</td>\n",
              "      <td>1522337929</td>\n",
              "      <td>BPJSKesehatanRI</td>\n",
              "    </tr>\n",
              "    <tr>\n",
              "      <th>528</th>\n",
              "      <td>1877530215720824970</td>\n",
              "      <td>Fri Jan 10 03:20:43 +0000 2025</td>\n",
              "      <td>0</td>\n",
              "      <td>@naastarry Sahabat dapat melakukan pelaporan s...</td>\n",
              "      <td>1877556146124337161</td>\n",
              "      <td>NaN</td>\n",
              "      <td>naastarry</td>\n",
              "      <td>in</td>\n",
              "      <td>Indonesia</td>\n",
              "      <td>0</td>\n",
              "      <td>0</td>\n",
              "      <td>0</td>\n",
              "      <td>https://x.com/BPJSKesehatanRI/status/187755614...</td>\n",
              "      <td>1522337929</td>\n",
              "      <td>BPJSKesehatanRI</td>\n",
              "    </tr>\n",
              "    <tr>\n",
              "      <th>529</th>\n",
              "      <td>1877656194497511903</td>\n",
              "      <td>Fri Jan 10 09:58:16 +0000 2025</td>\n",
              "      <td>1</td>\n",
              "      <td>mau kemana lagi gue nyari sisaan buat bayar bp...</td>\n",
              "      <td>1877656194497511903</td>\n",
              "      <td>NaN</td>\n",
              "      <td>NaN</td>\n",
              "      <td>in</td>\n",
              "      <td>NaN</td>\n",
              "      <td>0</td>\n",
              "      <td>0</td>\n",
              "      <td>0</td>\n",
              "      <td>https://x.com/madmaxeugene/status/187765619449...</td>\n",
              "      <td>620046357</td>\n",
              "      <td>madmaxeugene</td>\n",
              "    </tr>\n",
              "    <tr>\n",
              "      <th>530</th>\n",
              "      <td>1877583490063151280</td>\n",
              "      <td>Fri Jan 10 05:09:22 +0000 2025</td>\n",
              "      <td>0</td>\n",
              "      <td>Degrees is calling Full time Barista pria/wani...</td>\n",
              "      <td>1877583490063151280</td>\n",
              "      <td>NaN</td>\n",
              "      <td>NaN</td>\n",
              "      <td>in</td>\n",
              "      <td>NaN</td>\n",
              "      <td>0</td>\n",
              "      <td>0</td>\n",
              "      <td>0</td>\n",
              "      <td>https://x.com/loker_subsdagre/status/187758349...</td>\n",
              "      <td>951648179430203392</td>\n",
              "      <td>loker_subsdagre</td>\n",
              "    </tr>\n",
              "  </tbody>\n",
              "</table>\n",
              "<p>531 rows × 15 columns</p>\n",
              "</div>\n",
              "    <div class=\"colab-df-buttons\">\n",
              "\n",
              "  <div class=\"colab-df-container\">\n",
              "    <button class=\"colab-df-convert\" onclick=\"convertToInteractive('df-ef09702d-05ff-4842-b74b-25f38dd016d2')\"\n",
              "            title=\"Convert this dataframe to an interactive table.\"\n",
              "            style=\"display:none;\">\n",
              "\n",
              "  <svg xmlns=\"http://www.w3.org/2000/svg\" height=\"24px\" viewBox=\"0 -960 960 960\">\n",
              "    <path d=\"M120-120v-720h720v720H120Zm60-500h600v-160H180v160Zm220 220h160v-160H400v160Zm0 220h160v-160H400v160ZM180-400h160v-160H180v160Zm440 0h160v-160H620v160ZM180-180h160v-160H180v160Zm440 0h160v-160H620v160Z\"/>\n",
              "  </svg>\n",
              "    </button>\n",
              "\n",
              "  <style>\n",
              "    .colab-df-container {\n",
              "      display:flex;\n",
              "      gap: 12px;\n",
              "    }\n",
              "\n",
              "    .colab-df-convert {\n",
              "      background-color: #E8F0FE;\n",
              "      border: none;\n",
              "      border-radius: 50%;\n",
              "      cursor: pointer;\n",
              "      display: none;\n",
              "      fill: #1967D2;\n",
              "      height: 32px;\n",
              "      padding: 0 0 0 0;\n",
              "      width: 32px;\n",
              "    }\n",
              "\n",
              "    .colab-df-convert:hover {\n",
              "      background-color: #E2EBFA;\n",
              "      box-shadow: 0px 1px 2px rgba(60, 64, 67, 0.3), 0px 1px 3px 1px rgba(60, 64, 67, 0.15);\n",
              "      fill: #174EA6;\n",
              "    }\n",
              "\n",
              "    .colab-df-buttons div {\n",
              "      margin-bottom: 4px;\n",
              "    }\n",
              "\n",
              "    [theme=dark] .colab-df-convert {\n",
              "      background-color: #3B4455;\n",
              "      fill: #D2E3FC;\n",
              "    }\n",
              "\n",
              "    [theme=dark] .colab-df-convert:hover {\n",
              "      background-color: #434B5C;\n",
              "      box-shadow: 0px 1px 3px 1px rgba(0, 0, 0, 0.15);\n",
              "      filter: drop-shadow(0px 1px 2px rgba(0, 0, 0, 0.3));\n",
              "      fill: #FFFFFF;\n",
              "    }\n",
              "  </style>\n",
              "\n",
              "    <script>\n",
              "      const buttonEl =\n",
              "        document.querySelector('#df-ef09702d-05ff-4842-b74b-25f38dd016d2 button.colab-df-convert');\n",
              "      buttonEl.style.display =\n",
              "        google.colab.kernel.accessAllowed ? 'block' : 'none';\n",
              "\n",
              "      async function convertToInteractive(key) {\n",
              "        const element = document.querySelector('#df-ef09702d-05ff-4842-b74b-25f38dd016d2');\n",
              "        const dataTable =\n",
              "          await google.colab.kernel.invokeFunction('convertToInteractive',\n",
              "                                                    [key], {});\n",
              "        if (!dataTable) return;\n",
              "\n",
              "        const docLinkHtml = 'Like what you see? Visit the ' +\n",
              "          '<a target=\"_blank\" href=https://colab.research.google.com/notebooks/data_table.ipynb>data table notebook</a>'\n",
              "          + ' to learn more about interactive tables.';\n",
              "        element.innerHTML = '';\n",
              "        dataTable['output_type'] = 'display_data';\n",
              "        await google.colab.output.renderOutput(dataTable, element);\n",
              "        const docLink = document.createElement('div');\n",
              "        docLink.innerHTML = docLinkHtml;\n",
              "        element.appendChild(docLink);\n",
              "      }\n",
              "    </script>\n",
              "  </div>\n",
              "\n",
              "\n",
              "<div id=\"df-95408214-a4ef-49c7-8162-90b7b085e53d\">\n",
              "  <button class=\"colab-df-quickchart\" onclick=\"quickchart('df-95408214-a4ef-49c7-8162-90b7b085e53d')\"\n",
              "            title=\"Suggest charts\"\n",
              "            style=\"display:none;\">\n",
              "\n",
              "<svg xmlns=\"http://www.w3.org/2000/svg\" height=\"24px\"viewBox=\"0 0 24 24\"\n",
              "     width=\"24px\">\n",
              "    <g>\n",
              "        <path d=\"M19 3H5c-1.1 0-2 .9-2 2v14c0 1.1.9 2 2 2h14c1.1 0 2-.9 2-2V5c0-1.1-.9-2-2-2zM9 17H7v-7h2v7zm4 0h-2V7h2v10zm4 0h-2v-4h2v4z\"/>\n",
              "    </g>\n",
              "</svg>\n",
              "  </button>\n",
              "\n",
              "<style>\n",
              "  .colab-df-quickchart {\n",
              "      --bg-color: #E8F0FE;\n",
              "      --fill-color: #1967D2;\n",
              "      --hover-bg-color: #E2EBFA;\n",
              "      --hover-fill-color: #174EA6;\n",
              "      --disabled-fill-color: #AAA;\n",
              "      --disabled-bg-color: #DDD;\n",
              "  }\n",
              "\n",
              "  [theme=dark] .colab-df-quickchart {\n",
              "      --bg-color: #3B4455;\n",
              "      --fill-color: #D2E3FC;\n",
              "      --hover-bg-color: #434B5C;\n",
              "      --hover-fill-color: #FFFFFF;\n",
              "      --disabled-bg-color: #3B4455;\n",
              "      --disabled-fill-color: #666;\n",
              "  }\n",
              "\n",
              "  .colab-df-quickchart {\n",
              "    background-color: var(--bg-color);\n",
              "    border: none;\n",
              "    border-radius: 50%;\n",
              "    cursor: pointer;\n",
              "    display: none;\n",
              "    fill: var(--fill-color);\n",
              "    height: 32px;\n",
              "    padding: 0;\n",
              "    width: 32px;\n",
              "  }\n",
              "\n",
              "  .colab-df-quickchart:hover {\n",
              "    background-color: var(--hover-bg-color);\n",
              "    box-shadow: 0 1px 2px rgba(60, 64, 67, 0.3), 0 1px 3px 1px rgba(60, 64, 67, 0.15);\n",
              "    fill: var(--button-hover-fill-color);\n",
              "  }\n",
              "\n",
              "  .colab-df-quickchart-complete:disabled,\n",
              "  .colab-df-quickchart-complete:disabled:hover {\n",
              "    background-color: var(--disabled-bg-color);\n",
              "    fill: var(--disabled-fill-color);\n",
              "    box-shadow: none;\n",
              "  }\n",
              "\n",
              "  .colab-df-spinner {\n",
              "    border: 2px solid var(--fill-color);\n",
              "    border-color: transparent;\n",
              "    border-bottom-color: var(--fill-color);\n",
              "    animation:\n",
              "      spin 1s steps(1) infinite;\n",
              "  }\n",
              "\n",
              "  @keyframes spin {\n",
              "    0% {\n",
              "      border-color: transparent;\n",
              "      border-bottom-color: var(--fill-color);\n",
              "      border-left-color: var(--fill-color);\n",
              "    }\n",
              "    20% {\n",
              "      border-color: transparent;\n",
              "      border-left-color: var(--fill-color);\n",
              "      border-top-color: var(--fill-color);\n",
              "    }\n",
              "    30% {\n",
              "      border-color: transparent;\n",
              "      border-left-color: var(--fill-color);\n",
              "      border-top-color: var(--fill-color);\n",
              "      border-right-color: var(--fill-color);\n",
              "    }\n",
              "    40% {\n",
              "      border-color: transparent;\n",
              "      border-right-color: var(--fill-color);\n",
              "      border-top-color: var(--fill-color);\n",
              "    }\n",
              "    60% {\n",
              "      border-color: transparent;\n",
              "      border-right-color: var(--fill-color);\n",
              "    }\n",
              "    80% {\n",
              "      border-color: transparent;\n",
              "      border-right-color: var(--fill-color);\n",
              "      border-bottom-color: var(--fill-color);\n",
              "    }\n",
              "    90% {\n",
              "      border-color: transparent;\n",
              "      border-bottom-color: var(--fill-color);\n",
              "    }\n",
              "  }\n",
              "</style>\n",
              "\n",
              "  <script>\n",
              "    async function quickchart(key) {\n",
              "      const quickchartButtonEl =\n",
              "        document.querySelector('#' + key + ' button');\n",
              "      quickchartButtonEl.disabled = true;  // To prevent multiple clicks.\n",
              "      quickchartButtonEl.classList.add('colab-df-spinner');\n",
              "      try {\n",
              "        const charts = await google.colab.kernel.invokeFunction(\n",
              "            'suggestCharts', [key], {});\n",
              "      } catch (error) {\n",
              "        console.error('Error during call to suggestCharts:', error);\n",
              "      }\n",
              "      quickchartButtonEl.classList.remove('colab-df-spinner');\n",
              "      quickchartButtonEl.classList.add('colab-df-quickchart-complete');\n",
              "    }\n",
              "    (() => {\n",
              "      let quickchartButtonEl =\n",
              "        document.querySelector('#df-95408214-a4ef-49c7-8162-90b7b085e53d button');\n",
              "      quickchartButtonEl.style.display =\n",
              "        google.colab.kernel.accessAllowed ? 'block' : 'none';\n",
              "    })();\n",
              "  </script>\n",
              "</div>\n",
              "\n",
              "  <div id=\"id_9c067b85-69b8-438c-9e9d-b3a2cb7d8c2d\">\n",
              "    <style>\n",
              "      .colab-df-generate {\n",
              "        background-color: #E8F0FE;\n",
              "        border: none;\n",
              "        border-radius: 50%;\n",
              "        cursor: pointer;\n",
              "        display: none;\n",
              "        fill: #1967D2;\n",
              "        height: 32px;\n",
              "        padding: 0 0 0 0;\n",
              "        width: 32px;\n",
              "      }\n",
              "\n",
              "      .colab-df-generate:hover {\n",
              "        background-color: #E2EBFA;\n",
              "        box-shadow: 0px 1px 2px rgba(60, 64, 67, 0.3), 0px 1px 3px 1px rgba(60, 64, 67, 0.15);\n",
              "        fill: #174EA6;\n",
              "      }\n",
              "\n",
              "      [theme=dark] .colab-df-generate {\n",
              "        background-color: #3B4455;\n",
              "        fill: #D2E3FC;\n",
              "      }\n",
              "\n",
              "      [theme=dark] .colab-df-generate:hover {\n",
              "        background-color: #434B5C;\n",
              "        box-shadow: 0px 1px 3px 1px rgba(0, 0, 0, 0.15);\n",
              "        filter: drop-shadow(0px 1px 2px rgba(0, 0, 0, 0.3));\n",
              "        fill: #FFFFFF;\n",
              "      }\n",
              "    </style>\n",
              "    <button class=\"colab-df-generate\" onclick=\"generateWithVariable('df')\"\n",
              "            title=\"Generate code using this dataframe.\"\n",
              "            style=\"display:none;\">\n",
              "\n",
              "  <svg xmlns=\"http://www.w3.org/2000/svg\" height=\"24px\"viewBox=\"0 0 24 24\"\n",
              "       width=\"24px\">\n",
              "    <path d=\"M7,19H8.4L18.45,9,17,7.55,7,17.6ZM5,21V16.75L18.45,3.32a2,2,0,0,1,2.83,0l1.4,1.43a1.91,1.91,0,0,1,.58,1.4,1.91,1.91,0,0,1-.58,1.4L9.25,21ZM18.45,9,17,7.55Zm-12,3A5.31,5.31,0,0,0,4.9,8.1,5.31,5.31,0,0,0,1,6.5,5.31,5.31,0,0,0,4.9,4.9,5.31,5.31,0,0,0,6.5,1,5.31,5.31,0,0,0,8.1,4.9,5.31,5.31,0,0,0,12,6.5,5.46,5.46,0,0,0,6.5,12Z\"/>\n",
              "  </svg>\n",
              "    </button>\n",
              "    <script>\n",
              "      (() => {\n",
              "      const buttonEl =\n",
              "        document.querySelector('#id_9c067b85-69b8-438c-9e9d-b3a2cb7d8c2d button.colab-df-generate');\n",
              "      buttonEl.style.display =\n",
              "        google.colab.kernel.accessAllowed ? 'block' : 'none';\n",
              "\n",
              "      buttonEl.onclick = () => {\n",
              "        google.colab.notebook.generateWithVariable('df');\n",
              "      }\n",
              "      })();\n",
              "    </script>\n",
              "  </div>\n",
              "\n",
              "    </div>\n",
              "  </div>\n"
            ],
            "application/vnd.google.colaboratory.intrinsic+json": {
              "type": "dataframe",
              "variable_name": "df",
              "summary": "{\n  \"name\": \"df\",\n  \"rows\": 531,\n  \"fields\": [\n    {\n      \"column\": \"conversation_id_str\",\n      \"properties\": {\n        \"dtype\": \"number\",\n        \"std\": 4574000223415523,\n        \"min\": 1834964980023615911,\n        \"max\": 1880976122747159028,\n        \"num_unique_values\": 376,\n        \"samples\": [\n          1846049124292219073,\n          1877630056102797313,\n          1877739109093171711\n        ],\n        \"semantic_type\": \"\",\n        \"description\": \"\"\n      }\n    },\n    {\n      \"column\": \"created_at\",\n      \"properties\": {\n        \"dtype\": \"object\",\n        \"num_unique_values\": 531,\n        \"samples\": [\n          \"Fri Jan 10 03:29:55 +0000 2025\",\n          \"Fri Jan 17 07:14:55 +0000 2025\",\n          \"Tue Jan 07 08:46:00 +0000 2025\"\n        ],\n        \"semantic_type\": \"\",\n        \"description\": \"\"\n      }\n    },\n    {\n      \"column\": \"favorite_count\",\n      \"properties\": {\n        \"dtype\": \"number\",\n        \"std\": 375,\n        \"min\": 0,\n        \"max\": 5170,\n        \"num_unique_values\": 105,\n        \"samples\": [\n          135,\n          49,\n          71\n        ],\n        \"semantic_type\": \"\",\n        \"description\": \"\"\n      }\n    },\n    {\n      \"column\": \"full_text\",\n      \"properties\": {\n        \"dtype\": \"string\",\n        \"num_unique_values\": 530,\n        \"samples\": [\n          \"Menteri Kesehatan Budi Gunadi Sadikin mengatakan pelayanan Badan Penyelenggara Jaminan Sosial (BPJS) kesehatan saat ini belum sempurna. Menurut dia tidak semua pengobatan penyakit bisa ditanggung oleh BPJS karena iuran BPJS sangat rendah. #tempodotco https://t.co/Mn7NXgOZgq\",\n          \"@apralzolam Sebenernya ini bisa jadi bisnis sampingan yayasan/Perusahaan pemilik RS: bikin klinik Pratama 24 jam di salah satu space kosong di RS kerjasama dengan BPJS kalo ada pasien yg ga gadar diarahkan kesana. Done!\",\n          \"@_haye_ udh cek berita baru dari pernyataan menkes blm yg nyuruh peserta bpjs utk ikut asuransi swasta juga.. klo udh ikut asuransi swasta ngapain jg tiap bulan masih harus bayar ke bpjs wkwkwkw bener2 lawak\"\n        ],\n        \"semantic_type\": \"\",\n        \"description\": \"\"\n      }\n    },\n    {\n      \"column\": \"id_str\",\n      \"properties\": {\n        \"dtype\": \"number\",\n        \"std\": 2126268983470426,\n        \"min\": 1857331955001336257,\n        \"max\": 1880976122747159028,\n        \"num_unique_values\": 531,\n        \"samples\": [\n          1877558464446345628,\n          1880151801066057777,\n          1876550842968396048\n        ],\n        \"semantic_type\": \"\",\n        \"description\": \"\"\n      }\n    },\n    {\n      \"column\": \"image_url\",\n      \"properties\": {\n        \"dtype\": \"category\",\n        \"num_unique_values\": 77,\n        \"samples\": [\n          \"https://pbs.twimg.com/media/GhOatXXaQAAJGjI.jpg\",\n          \"https://pbs.twimg.com/media/GheVVBPa8AACVRH.jpg\",\n          \"https://pbs.twimg.com/media/GhZiyddbkAACdZ3.jpg\"\n        ],\n        \"semantic_type\": \"\",\n        \"description\": \"\"\n      }\n    },\n    {\n      \"column\": \"in_reply_to_screen_name\",\n      \"properties\": {\n        \"dtype\": \"category\",\n        \"num_unique_values\": 182,\n        \"samples\": [\n          \"apralzolam\",\n          \"romeogadungan\",\n          \"nitaa456\"\n        ],\n        \"semantic_type\": \"\",\n        \"description\": \"\"\n      }\n    },\n    {\n      \"column\": \"lang\",\n      \"properties\": {\n        \"dtype\": \"category\",\n        \"num_unique_values\": 2,\n        \"samples\": [\n          \"en\",\n          \"in\"\n        ],\n        \"semantic_type\": \"\",\n        \"description\": \"\"\n      }\n    },\n    {\n      \"column\": \"location\",\n      \"properties\": {\n        \"dtype\": \"category\",\n        \"num_unique_values\": 158,\n        \"samples\": [\n          \"malang\",\n          \"Central Java, Indonesia\"\n        ],\n        \"semantic_type\": \"\",\n        \"description\": \"\"\n      }\n    },\n    {\n      \"column\": \"quote_count\",\n      \"properties\": {\n        \"dtype\": \"number\",\n        \"std\": 86,\n        \"min\": 0,\n        \"max\": 1769,\n        \"num_unique_values\": 22,\n        \"samples\": [\n          2,\n          1769\n        ],\n        \"semantic_type\": \"\",\n        \"description\": \"\"\n      }\n    },\n    {\n      \"column\": \"reply_count\",\n      \"properties\": {\n        \"dtype\": \"number\",\n        \"std\": 67,\n        \"min\": 0,\n        \"max\": 1163,\n        \"num_unique_values\": 49,\n        \"samples\": [\n          161,\n          326\n        ],\n        \"semantic_type\": \"\",\n        \"description\": \"\"\n      }\n    },\n    {\n      \"column\": \"retweet_count\",\n      \"properties\": {\n        \"dtype\": \"number\",\n        \"std\": 68,\n        \"min\": 0,\n        \"max\": 952,\n        \"num_unique_values\": 50,\n        \"samples\": [\n          26,\n          262\n        ],\n        \"semantic_type\": \"\",\n        \"description\": \"\"\n      }\n    },\n    {\n      \"column\": \"tweet_url\",\n      \"properties\": {\n        \"dtype\": \"string\",\n        \"num_unique_values\": 531,\n        \"samples\": [\n          \"https://x.com/kistme_/status/1877558464446345628\",\n          \"https://x.com/ezha0105/status/1880151801066057777\"\n        ],\n        \"semantic_type\": \"\",\n        \"description\": \"\"\n      }\n    },\n    {\n      \"column\": \"user_id_str\",\n      \"properties\": {\n        \"dtype\": \"number\",\n        \"std\": 707395778623275264,\n        \"min\": 16945033,\n        \"max\": 1866658491576016896,\n        \"num_unique_values\": 352,\n        \"samples\": [\n          85495565,\n          1001210415576039424\n        ],\n        \"semantic_type\": \"\",\n        \"description\": \"\"\n      }\n    },\n    {\n      \"column\": \"username\",\n      \"properties\": {\n        \"dtype\": \"string\",\n        \"num_unique_values\": 352,\n        \"samples\": [\n          \"yesmar_banu\",\n          \"realllllwawa\"\n        ],\n        \"semantic_type\": \"\",\n        \"description\": \"\"\n      }\n    }\n  ]\n}"
            }
          },
          "metadata": {}
        }
      ]
    },
    {
      "cell_type": "markdown",
      "source": [
        "## 3. Jumlah Frame Data"
      ],
      "metadata": {
        "id": "ArUCiVr2M71h"
      }
    },
    {
      "cell_type": "code",
      "source": [
        "num_tweets = len(df)\n",
        "\n",
        "print(f\"Jumlah tweet dalam dataframe adalah {num_tweets}\")"
      ],
      "metadata": {
        "colab": {
          "base_uri": "https://localhost:8080/"
        },
        "id": "zccOyLYjcr43",
        "outputId": "7cd983ad-6d5e-467e-afc5-058c8fbf4dfc"
      },
      "execution_count": 5,
      "outputs": [
        {
          "output_type": "stream",
          "name": "stdout",
          "text": [
            "Jumlah tweet dalam dataframe adalah 531\n"
          ]
        }
      ]
    },
    {
      "cell_type": "markdown",
      "source": [
        "## 4. Preproccessing Data"
      ],
      "metadata": {
        "id": "qrZIAz55NCOf"
      }
    },
    {
      "cell_type": "markdown",
      "source": [
        "4.1 Clean Text Data"
      ],
      "metadata": {
        "id": "ziEX5bX4xTGM"
      }
    },
    {
      "cell_type": "code",
      "source": [
        "import nltk\n",
        "nltk.download('punkt_tab')\n",
        "import re\n",
        "from nltk.tokenize import word_tokenize\n",
        "from nltk.corpus import stopwords\n",
        "\n",
        "# Fungsi membersihkan teks\n",
        "def clean_text(text):\n",
        "    text = re.sub(r\"http\\S+|www\\S+|https\\S+\", '', text, flags=re.MULTILINE)\n",
        "    text = re.sub(r'@\\w+', '', text)\n",
        "    text = re.sub(r'[^A-Za-z\\s]', '', text)\n",
        "    text = text.lower()\n",
        "    tokens = word_tokenize(text)\n",
        "    stop_words = set(stopwords.words('indonesian'))\n",
        "    return \" \".join([word for word in tokens if word not in stop_words])\n",
        "\n",
        "if 'text' in df.columns:\n",
        "    df['cleaned_text'] = df['text'].apply(clean_text)\n",
        "elif 'tweet' in df.columns:\n",
        "    df['cleaned_text'] = df['tweet'].apply(clean_text)\n",
        "    print(\"Using 'tweet' column instead of 'text'\")\n",
        "elif 'full_text' in df.columns:\n",
        "    df['cleaned_text'] = df['full_text'].apply(clean_text)\n",
        "    print(\"Using 'full_text' column instead of 'text'\")\n",
        "else:\n",
        "    raise KeyError(\"Tidak ada kolom 'text', 'tweet', atau 'full_text'.\")"
      ],
      "metadata": {
        "id": "_ZhUZrlJJlMC",
        "outputId": "4f8f211f-21f1-43de-a6e4-f1f87e022f78",
        "colab": {
          "base_uri": "https://localhost:8080/"
        },
        "collapsed": true
      },
      "execution_count": 9,
      "outputs": [
        {
          "output_type": "stream",
          "name": "stderr",
          "text": [
            "[nltk_data] Downloading package stopwords to /root/nltk_data...\n",
            "[nltk_data]   Unzipping corpora/stopwords.zip.\n",
            "[nltk_data] Downloading package punkt_tab to /root/nltk_data...\n",
            "[nltk_data]   Package punkt_tab is already up-to-date!\n"
          ]
        },
        {
          "output_type": "stream",
          "name": "stdout",
          "text": [
            "Using 'full_text' column instead of 'text'\n"
          ]
        }
      ]
    },
    {
      "cell_type": "markdown",
      "source": [
        "4.2 Tokenize"
      ],
      "metadata": {
        "id": "msZhy6LQyhh2"
      }
    },
    {
      "cell_type": "code",
      "source": [
        "from tensorflow.keras.preprocessing.text import Tokenizer\n",
        "\n",
        "tokenizer = Tokenizer(num_words=5000, oov_token='<OOV>')\n",
        "tokenizer.fit_on_texts(df['cleaned_text'])\n",
        "\n",
        "X = tokenizer.texts_to_sequences(df['cleaned_text'])"
      ],
      "metadata": {
        "id": "LeXpJJSoyhAD"
      },
      "execution_count": 10,
      "outputs": []
    },
    {
      "cell_type": "code",
      "source": [
        "tokenized = df_copy['favorite_count'].apply(lambda x: str(x).split())\n",
        "tokenized.head()"
      ],
      "metadata": {
        "id": "o9DiRseh-Ea9",
        "outputId": "6e344ff8-44ac-41e3-f889-f190765db420",
        "colab": {
          "base_uri": "https://localhost:8080/",
          "height": 241
        }
      },
      "execution_count": 35,
      "outputs": [
        {
          "output_type": "execute_result",
          "data": {
            "text/plain": [
              "0     [83]\n",
              "1    [285]\n",
              "2    [341]\n",
              "3    [580]\n",
              "4      [2]\n",
              "Name: favorite_count, dtype: object"
            ],
            "text/html": [
              "<div>\n",
              "<style scoped>\n",
              "    .dataframe tbody tr th:only-of-type {\n",
              "        vertical-align: middle;\n",
              "    }\n",
              "\n",
              "    .dataframe tbody tr th {\n",
              "        vertical-align: top;\n",
              "    }\n",
              "\n",
              "    .dataframe thead th {\n",
              "        text-align: right;\n",
              "    }\n",
              "</style>\n",
              "<table border=\"1\" class=\"dataframe\">\n",
              "  <thead>\n",
              "    <tr style=\"text-align: right;\">\n",
              "      <th></th>\n",
              "      <th>favorite_count</th>\n",
              "    </tr>\n",
              "  </thead>\n",
              "  <tbody>\n",
              "    <tr>\n",
              "      <th>0</th>\n",
              "      <td>[83]</td>\n",
              "    </tr>\n",
              "    <tr>\n",
              "      <th>1</th>\n",
              "      <td>[285]</td>\n",
              "    </tr>\n",
              "    <tr>\n",
              "      <th>2</th>\n",
              "      <td>[341]</td>\n",
              "    </tr>\n",
              "    <tr>\n",
              "      <th>3</th>\n",
              "      <td>[580]</td>\n",
              "    </tr>\n",
              "    <tr>\n",
              "      <th>4</th>\n",
              "      <td>[2]</td>\n",
              "    </tr>\n",
              "  </tbody>\n",
              "</table>\n",
              "</div><br><label><b>dtype:</b> object</label>"
            ]
          },
          "metadata": {},
          "execution_count": 35
        }
      ]
    },
    {
      "cell_type": "markdown",
      "source": [
        "4.3 Stemming"
      ],
      "metadata": {
        "id": "AdWd28kGyy4v"
      }
    },
    {
      "cell_type": "code",
      "source": [
        "!pip install Sastrawi"
      ],
      "metadata": {
        "id": "sHmk1rHhy9t6",
        "outputId": "fa131600-9a79-49be-a779-932401d3137b",
        "colab": {
          "base_uri": "https://localhost:8080/"
        }
      },
      "execution_count": 12,
      "outputs": [
        {
          "output_type": "stream",
          "name": "stdout",
          "text": [
            "Collecting Sastrawi\n",
            "  Downloading Sastrawi-1.0.1-py2.py3-none-any.whl.metadata (909 bytes)\n",
            "Downloading Sastrawi-1.0.1-py2.py3-none-any.whl (209 kB)\n",
            "\u001b[?25l   \u001b[90m━━━━━━━━━━━━━━━━━━━━━━━━━━━━━━━━━━━━━━━━\u001b[0m \u001b[32m0.0/209.7 kB\u001b[0m \u001b[31m?\u001b[0m eta \u001b[36m-:--:--\u001b[0m\r\u001b[2K   \u001b[91m━━━━━━━━━━━━━━━━━━━━━━━━━━━━━━━━━━━━━━━\u001b[0m\u001b[90m╺\u001b[0m \u001b[32m204.8/209.7 kB\u001b[0m \u001b[31m6.8 MB/s\u001b[0m eta \u001b[36m0:00:01\u001b[0m\r\u001b[2K   \u001b[90m━━━━━━━━━━━━━━━━━━━━━━━━━━━━━━━━━━━━━━━━\u001b[0m \u001b[32m209.7/209.7 kB\u001b[0m \u001b[31m4.7 MB/s\u001b[0m eta \u001b[36m0:00:00\u001b[0m\n",
            "\u001b[?25hInstalling collected packages: Sastrawi\n",
            "Successfully installed Sastrawi-1.0.1\n"
          ]
        }
      ]
    },
    {
      "cell_type": "code",
      "source": [
        "from Sastrawi.Stemmer.StemmerFactory import StemmerFactory\n",
        "\n",
        "factory = StemmerFactory()\n",
        "stemmer = factory.create_stemmer()\n",
        "\n",
        "df['stemmed_text'] = df['cleaned_text'].apply(stemmer.stem)"
      ],
      "metadata": {
        "id": "ep70-Tsqyygh"
      },
      "execution_count": 13,
      "outputs": []
    },
    {
      "cell_type": "markdown",
      "source": [
        "## 5. Labeling Data"
      ],
      "metadata": {
        "id": "lNnlUh-uNFq2"
      }
    },
    {
      "cell_type": "code",
      "source": [
        "def assign_label(text):\n",
        "    positif_keywords = [\"baik\", \"jujur\", \"suka\", \"senang\", \"puas\"]\n",
        "    negatif_keywords = [\"buruk\", \"bohong\", \"marah\", \"kecewa\", \"sedih\"]\n",
        "    text = text.lower()\n",
        "    if any(word in text for word in positif_keywords):\n",
        "        return 1  # Positif\n",
        "    elif any(word in text for word in negatif_keywords):\n",
        "        return 0  # Negatif\n",
        "    else:\n",
        "        return 2  # Netral\n",
        "\n",
        "df['label'] = df['stemmed_text'].apply(assign_label)\n"
      ],
      "metadata": {
        "id": "AmhUdLr8KDJV",
        "collapsed": true
      },
      "execution_count": 14,
      "outputs": []
    },
    {
      "cell_type": "markdown",
      "source": [
        "## 6. Normalisasi Data"
      ],
      "metadata": {
        "id": "Q888inp4NJtr"
      }
    },
    {
      "cell_type": "code",
      "source": [
        "if 'tweet' in df.columns:\n",
        "    df['combined_text'] = df['stemmed_text'] + \" \" + df['tweet']\n",
        "elif 'text' in df.columns:\n",
        "    df['combined_text'] = df['stemmed_text'] + \" \" + df['text']\n",
        "elif 'full_text' in df.columns:\n",
        "    df['combined_text'] = df['stemmed_text'] + \" \" + df['full_text']\n",
        "else:\n",
        "    raise KeyError(\"Tidak ada kolom 'text', 'tweet', atau 'full_text' untuk digabungkan.\")"
      ],
      "metadata": {
        "id": "_dLVPQjLKNf4",
        "collapsed": true
      },
      "execution_count": 17,
      "outputs": []
    },
    {
      "cell_type": "markdown",
      "source": [
        "## 8. Model LSTM"
      ],
      "metadata": {
        "id": "mxWmmQiYNSHL"
      }
    },
    {
      "cell_type": "code",
      "source": [
        "from tensorflow.keras.models import Sequential\n",
        "from tensorflow.keras.layers import Embedding, LSTM, Dense, Dropout\n",
        "\n",
        "model = Sequential([\n",
        "    Embedding(input_dim=5000, output_dim=64, input_length=50),\n",
        "    LSTM(128, return_sequences=True),\n",
        "    Dropout(0.2),\n",
        "    LSTM(64),\n",
        "    Dense(32, activation='relu'),\n",
        "    Dense(3, activation='softmax')\n",
        "])\n",
        "\n",
        "model.compile(optimizer='adam', loss='sparse_categorical_crossentropy', metrics=['accuracy'])\n",
        "model.summary()\n"
      ],
      "metadata": {
        "id": "93Emu0h8Kfw3",
        "outputId": "3099100d-06be-458a-b114-c499ec2ded4a",
        "colab": {
          "base_uri": "https://localhost:8080/",
          "height": 375
        },
        "collapsed": true
      },
      "execution_count": 18,
      "outputs": [
        {
          "output_type": "stream",
          "name": "stderr",
          "text": [
            "/usr/local/lib/python3.11/dist-packages/keras/src/layers/core/embedding.py:90: UserWarning: Argument `input_length` is deprecated. Just remove it.\n",
            "  warnings.warn(\n"
          ]
        },
        {
          "output_type": "display_data",
          "data": {
            "text/plain": [
              "\u001b[1mModel: \"sequential\"\u001b[0m\n"
            ],
            "text/html": [
              "<pre style=\"white-space:pre;overflow-x:auto;line-height:normal;font-family:Menlo,'DejaVu Sans Mono',consolas,'Courier New',monospace\"><span style=\"font-weight: bold\">Model: \"sequential\"</span>\n",
              "</pre>\n"
            ]
          },
          "metadata": {}
        },
        {
          "output_type": "display_data",
          "data": {
            "text/plain": [
              "┏━━━━━━━━━━━━━━━━━━━━━━━━━━━━━━━━━━━━━━┳━━━━━━━━━━━━━━━━━━━━━━━━━━━━━┳━━━━━━━━━━━━━━━━━┓\n",
              "┃\u001b[1m \u001b[0m\u001b[1mLayer (type)                        \u001b[0m\u001b[1m \u001b[0m┃\u001b[1m \u001b[0m\u001b[1mOutput Shape               \u001b[0m\u001b[1m \u001b[0m┃\u001b[1m \u001b[0m\u001b[1m        Param #\u001b[0m\u001b[1m \u001b[0m┃\n",
              "┡━━━━━━━━━━━━━━━━━━━━━━━━━━━━━━━━━━━━━━╇━━━━━━━━━━━━━━━━━━━━━━━━━━━━━╇━━━━━━━━━━━━━━━━━┩\n",
              "│ embedding (\u001b[38;5;33mEmbedding\u001b[0m)                │ ?                           │     \u001b[38;5;34m0\u001b[0m (unbuilt) │\n",
              "├──────────────────────────────────────┼─────────────────────────────┼─────────────────┤\n",
              "│ lstm (\u001b[38;5;33mLSTM\u001b[0m)                          │ ?                           │     \u001b[38;5;34m0\u001b[0m (unbuilt) │\n",
              "├──────────────────────────────────────┼─────────────────────────────┼─────────────────┤\n",
              "│ dropout (\u001b[38;5;33mDropout\u001b[0m)                    │ ?                           │     \u001b[38;5;34m0\u001b[0m (unbuilt) │\n",
              "├──────────────────────────────────────┼─────────────────────────────┼─────────────────┤\n",
              "│ lstm_1 (\u001b[38;5;33mLSTM\u001b[0m)                        │ ?                           │     \u001b[38;5;34m0\u001b[0m (unbuilt) │\n",
              "├──────────────────────────────────────┼─────────────────────────────┼─────────────────┤\n",
              "│ dense (\u001b[38;5;33mDense\u001b[0m)                        │ ?                           │     \u001b[38;5;34m0\u001b[0m (unbuilt) │\n",
              "├──────────────────────────────────────┼─────────────────────────────┼─────────────────┤\n",
              "│ dense_1 (\u001b[38;5;33mDense\u001b[0m)                      │ ?                           │     \u001b[38;5;34m0\u001b[0m (unbuilt) │\n",
              "└──────────────────────────────────────┴─────────────────────────────┴─────────────────┘\n"
            ],
            "text/html": [
              "<pre style=\"white-space:pre;overflow-x:auto;line-height:normal;font-family:Menlo,'DejaVu Sans Mono',consolas,'Courier New',monospace\">┏━━━━━━━━━━━━━━━━━━━━━━━━━━━━━━━━━━━━━━┳━━━━━━━━━━━━━━━━━━━━━━━━━━━━━┳━━━━━━━━━━━━━━━━━┓\n",
              "┃<span style=\"font-weight: bold\"> Layer (type)                         </span>┃<span style=\"font-weight: bold\"> Output Shape                </span>┃<span style=\"font-weight: bold\">         Param # </span>┃\n",
              "┡━━━━━━━━━━━━━━━━━━━━━━━━━━━━━━━━━━━━━━╇━━━━━━━━━━━━━━━━━━━━━━━━━━━━━╇━━━━━━━━━━━━━━━━━┩\n",
              "│ embedding (<span style=\"color: #0087ff; text-decoration-color: #0087ff\">Embedding</span>)                │ ?                           │     <span style=\"color: #00af00; text-decoration-color: #00af00\">0</span> (unbuilt) │\n",
              "├──────────────────────────────────────┼─────────────────────────────┼─────────────────┤\n",
              "│ lstm (<span style=\"color: #0087ff; text-decoration-color: #0087ff\">LSTM</span>)                          │ ?                           │     <span style=\"color: #00af00; text-decoration-color: #00af00\">0</span> (unbuilt) │\n",
              "├──────────────────────────────────────┼─────────────────────────────┼─────────────────┤\n",
              "│ dropout (<span style=\"color: #0087ff; text-decoration-color: #0087ff\">Dropout</span>)                    │ ?                           │     <span style=\"color: #00af00; text-decoration-color: #00af00\">0</span> (unbuilt) │\n",
              "├──────────────────────────────────────┼─────────────────────────────┼─────────────────┤\n",
              "│ lstm_1 (<span style=\"color: #0087ff; text-decoration-color: #0087ff\">LSTM</span>)                        │ ?                           │     <span style=\"color: #00af00; text-decoration-color: #00af00\">0</span> (unbuilt) │\n",
              "├──────────────────────────────────────┼─────────────────────────────┼─────────────────┤\n",
              "│ dense (<span style=\"color: #0087ff; text-decoration-color: #0087ff\">Dense</span>)                        │ ?                           │     <span style=\"color: #00af00; text-decoration-color: #00af00\">0</span> (unbuilt) │\n",
              "├──────────────────────────────────────┼─────────────────────────────┼─────────────────┤\n",
              "│ dense_1 (<span style=\"color: #0087ff; text-decoration-color: #0087ff\">Dense</span>)                      │ ?                           │     <span style=\"color: #00af00; text-decoration-color: #00af00\">0</span> (unbuilt) │\n",
              "└──────────────────────────────────────┴─────────────────────────────┴─────────────────┘\n",
              "</pre>\n"
            ]
          },
          "metadata": {}
        },
        {
          "output_type": "display_data",
          "data": {
            "text/plain": [
              "\u001b[1m Total params: \u001b[0m\u001b[38;5;34m0\u001b[0m (0.00 B)\n"
            ],
            "text/html": [
              "<pre style=\"white-space:pre;overflow-x:auto;line-height:normal;font-family:Menlo,'DejaVu Sans Mono',consolas,'Courier New',monospace\"><span style=\"font-weight: bold\"> Total params: </span><span style=\"color: #00af00; text-decoration-color: #00af00\">0</span> (0.00 B)\n",
              "</pre>\n"
            ]
          },
          "metadata": {}
        },
        {
          "output_type": "display_data",
          "data": {
            "text/plain": [
              "\u001b[1m Trainable params: \u001b[0m\u001b[38;5;34m0\u001b[0m (0.00 B)\n"
            ],
            "text/html": [
              "<pre style=\"white-space:pre;overflow-x:auto;line-height:normal;font-family:Menlo,'DejaVu Sans Mono',consolas,'Courier New',monospace\"><span style=\"font-weight: bold\"> Trainable params: </span><span style=\"color: #00af00; text-decoration-color: #00af00\">0</span> (0.00 B)\n",
              "</pre>\n"
            ]
          },
          "metadata": {}
        },
        {
          "output_type": "display_data",
          "data": {
            "text/plain": [
              "\u001b[1m Non-trainable params: \u001b[0m\u001b[38;5;34m0\u001b[0m (0.00 B)\n"
            ],
            "text/html": [
              "<pre style=\"white-space:pre;overflow-x:auto;line-height:normal;font-family:Menlo,'DejaVu Sans Mono',consolas,'Courier New',monospace\"><span style=\"font-weight: bold\"> Non-trainable params: </span><span style=\"color: #00af00; text-decoration-color: #00af00\">0</span> (0.00 B)\n",
              "</pre>\n"
            ]
          },
          "metadata": {}
        }
      ]
    },
    {
      "cell_type": "markdown",
      "source": [
        "## 9. Training Model"
      ],
      "metadata": {
        "id": "wvN7ehKU1mjY"
      }
    },
    {
      "cell_type": "code",
      "source": [
        "!pip install scikit-learn"
      ],
      "metadata": {
        "id": "y5Y_3ICX1ukZ",
        "outputId": "74266d17-2b9f-45c4-a10d-f744f9ad09f1",
        "colab": {
          "base_uri": "https://localhost:8080/"
        }
      },
      "execution_count": 20,
      "outputs": [
        {
          "output_type": "stream",
          "name": "stdout",
          "text": [
            "Requirement already satisfied: scikit-learn in /usr/local/lib/python3.11/dist-packages (1.6.0)\n",
            "Requirement already satisfied: numpy>=1.19.5 in /usr/local/lib/python3.11/dist-packages (from scikit-learn) (1.26.4)\n",
            "Requirement already satisfied: scipy>=1.6.0 in /usr/local/lib/python3.11/dist-packages (from scikit-learn) (1.13.1)\n",
            "Requirement already satisfied: joblib>=1.2.0 in /usr/local/lib/python3.11/dist-packages (from scikit-learn) (1.4.2)\n",
            "Requirement already satisfied: threadpoolctl>=3.1.0 in /usr/local/lib/python3.11/dist-packages (from scikit-learn) (3.5.0)\n"
          ]
        }
      ]
    },
    {
      "cell_type": "code",
      "source": [
        "from sklearn.model_selection import train_test_split\n",
        "import numpy as np\n",
        "from tensorflow.keras.preprocessing.sequence import pad_sequences\n",
        "\n",
        "max_length = 50\n",
        "\n",
        "X = pad_sequences(X, maxlen=max_length, padding='post', truncating='post')\n",
        "\n",
        "X = np.array(X)\n",
        "\n",
        "X_train, X_test, y_train, y_test = train_test_split(\n",
        "    X, df['label'], test_size=0.2, random_state=42\n",
        ")\n",
        "\n",
        "history = model.fit(X_train, y_train, epochs=10, validation_data=(X_test, y_test), batch_size=32)"
      ],
      "metadata": {
        "id": "5mQPUfF81l9u",
        "outputId": "3d1351c2-236c-4535-9229-699c73876e4c",
        "colab": {
          "base_uri": "https://localhost:8080/"
        }
      },
      "execution_count": 23,
      "outputs": [
        {
          "output_type": "stream",
          "name": "stdout",
          "text": [
            "Epoch 1/10\n",
            "\u001b[1m14/14\u001b[0m \u001b[32m━━━━━━━━━━━━━━━━━━━━\u001b[0m\u001b[37m\u001b[0m \u001b[1m9s\u001b[0m 252ms/step - accuracy: 0.8719 - loss: 0.6539 - val_accuracy: 0.9720 - val_loss: 0.1553\n",
            "Epoch 2/10\n",
            "\u001b[1m14/14\u001b[0m \u001b[32m━━━━━━━━━━━━━━━━━━━━\u001b[0m\u001b[37m\u001b[0m \u001b[1m3s\u001b[0m 125ms/step - accuracy: 0.9795 - loss: 0.1154 - val_accuracy: 0.9720 - val_loss: 0.1461\n",
            "Epoch 3/10\n",
            "\u001b[1m14/14\u001b[0m \u001b[32m━━━━━━━━━━━━━━━━━━━━\u001b[0m\u001b[37m\u001b[0m \u001b[1m3s\u001b[0m 131ms/step - accuracy: 0.9737 - loss: 0.1381 - val_accuracy: 0.9720 - val_loss: 0.1464\n",
            "Epoch 4/10\n",
            "\u001b[1m14/14\u001b[0m \u001b[32m━━━━━━━━━━━━━━━━━━━━\u001b[0m\u001b[37m\u001b[0m \u001b[1m2s\u001b[0m 122ms/step - accuracy: 0.9810 - loss: 0.1077 - val_accuracy: 0.9720 - val_loss: 0.1529\n",
            "Epoch 5/10\n",
            "\u001b[1m14/14\u001b[0m \u001b[32m━━━━━━━━━━━━━━━━━━━━\u001b[0m\u001b[37m\u001b[0m \u001b[1m2s\u001b[0m 141ms/step - accuracy: 0.9780 - loss: 0.1200 - val_accuracy: 0.9720 - val_loss: 0.1460\n",
            "Epoch 6/10\n",
            "\u001b[1m14/14\u001b[0m \u001b[32m━━━━━━━━━━━━━━━━━━━━\u001b[0m\u001b[37m\u001b[0m \u001b[1m3s\u001b[0m 208ms/step - accuracy: 0.9653 - loss: 0.1741 - val_accuracy: 0.9720 - val_loss: 0.1467\n",
            "Epoch 7/10\n",
            "\u001b[1m14/14\u001b[0m \u001b[32m━━━━━━━━━━━━━━━━━━━━\u001b[0m\u001b[37m\u001b[0m \u001b[1m2s\u001b[0m 144ms/step - accuracy: 0.9778 - loss: 0.1217 - val_accuracy: 0.9720 - val_loss: 0.1506\n",
            "Epoch 8/10\n",
            "\u001b[1m14/14\u001b[0m \u001b[32m━━━━━━━━━━━━━━━━━━━━\u001b[0m\u001b[37m\u001b[0m \u001b[1m2s\u001b[0m 130ms/step - accuracy: 0.9782 - loss: 0.1176 - val_accuracy: 0.9720 - val_loss: 0.1495\n",
            "Epoch 9/10\n",
            "\u001b[1m14/14\u001b[0m \u001b[32m━━━━━━━━━━━━━━━━━━━━\u001b[0m\u001b[37m\u001b[0m \u001b[1m2s\u001b[0m 126ms/step - accuracy: 0.9826 - loss: 0.1039 - val_accuracy: 0.9720 - val_loss: 0.1505\n",
            "Epoch 10/10\n",
            "\u001b[1m14/14\u001b[0m \u001b[32m━━━━━━━━━━━━━━━━━━━━\u001b[0m\u001b[37m\u001b[0m \u001b[1m2s\u001b[0m 118ms/step - accuracy: 0.9844 - loss: 0.0910 - val_accuracy: 0.9720 - val_loss: 0.1465\n"
          ]
        }
      ]
    },
    {
      "cell_type": "markdown",
      "source": [
        "## 10. Evaluasi Model"
      ],
      "metadata": {
        "id": "87dtQCcO2j7G"
      }
    },
    {
      "cell_type": "markdown",
      "source": [
        "10.1 Classification Report"
      ],
      "metadata": {
        "id": "2CT3DpVt2nZw"
      }
    },
    {
      "cell_type": "code",
      "source": [
        "from sklearn.metrics import classification_report\n",
        "y_pred = model.predict(X_test).argmax(axis=1)\n",
        "print(classification_report(y_test, y_pred, target_names=['Negatif', 'Netral', 'Positif']))\n"
      ],
      "metadata": {
        "id": "VuxyqQjF2nFF",
        "outputId": "5ef42852-17c2-4c77-a52e-b6d7f04ed64c",
        "colab": {
          "base_uri": "https://localhost:8080/"
        }
      },
      "execution_count": 24,
      "outputs": [
        {
          "output_type": "stream",
          "name": "stdout",
          "text": [
            "\u001b[1m4/4\u001b[0m \u001b[32m━━━━━━━━━━━━━━━━━━━━\u001b[0m\u001b[37m\u001b[0m \u001b[1m1s\u001b[0m 147ms/step\n",
            "              precision    recall  f1-score   support\n",
            "\n",
            "     Negatif       0.00      0.00      0.00         1\n",
            "      Netral       0.00      0.00      0.00         2\n",
            "     Positif       0.97      1.00      0.99       104\n",
            "\n",
            "    accuracy                           0.97       107\n",
            "   macro avg       0.32      0.33      0.33       107\n",
            "weighted avg       0.94      0.97      0.96       107\n",
            "\n"
          ]
        },
        {
          "output_type": "stream",
          "name": "stderr",
          "text": [
            "/usr/local/lib/python3.11/dist-packages/sklearn/metrics/_classification.py:1565: UndefinedMetricWarning: Precision is ill-defined and being set to 0.0 in labels with no predicted samples. Use `zero_division` parameter to control this behavior.\n",
            "  _warn_prf(average, modifier, f\"{metric.capitalize()} is\", len(result))\n",
            "/usr/local/lib/python3.11/dist-packages/sklearn/metrics/_classification.py:1565: UndefinedMetricWarning: Precision is ill-defined and being set to 0.0 in labels with no predicted samples. Use `zero_division` parameter to control this behavior.\n",
            "  _warn_prf(average, modifier, f\"{metric.capitalize()} is\", len(result))\n",
            "/usr/local/lib/python3.11/dist-packages/sklearn/metrics/_classification.py:1565: UndefinedMetricWarning: Precision is ill-defined and being set to 0.0 in labels with no predicted samples. Use `zero_division` parameter to control this behavior.\n",
            "  _warn_prf(average, modifier, f\"{metric.capitalize()} is\", len(result))\n"
          ]
        }
      ]
    },
    {
      "cell_type": "markdown",
      "source": [
        "10.2 Confusion Matrix"
      ],
      "metadata": {
        "id": "ImxcdHEi28B1"
      }
    },
    {
      "cell_type": "code",
      "source": [
        "from sklearn.metrics import confusion_matrix\n",
        "import seaborn as sns\n",
        "\n",
        "cm = confusion_matrix(y_test, y_pred)\n",
        "sns.heatmap(cm, annot=True, fmt=\"d\", cmap=\"Blues\", xticklabels=['Negatif', 'Netral', 'Positif'], yticklabels=['Negatif', 'Netral', 'Positif'])\n"
      ],
      "metadata": {
        "id": "AoqRhVMc2_yJ",
        "outputId": "78da283f-903a-407e-e246-057271b522ef",
        "colab": {
          "base_uri": "https://localhost:8080/",
          "height": 447
        }
      },
      "execution_count": 25,
      "outputs": [
        {
          "output_type": "execute_result",
          "data": {
            "text/plain": [
              "<Axes: >"
            ]
          },
          "metadata": {},
          "execution_count": 25
        },
        {
          "output_type": "display_data",
          "data": {
            "text/plain": [
              "<Figure size 640x480 with 2 Axes>"
            ],
            "image/png": "[encoded data removed]"
          },
          "metadata": {}
        }
      ]
    },
    {
      "cell_type": "markdown",
      "source": [
        "10.3 Visualisasi Peforma Model"
      ],
      "metadata": {
        "id": "ROikZRJL3XF4"
      }
    },
    {
      "cell_type": "code",
      "source": [
        "import matplotlib.pyplot as plt\n",
        "\n",
        "plt.figure(figsize=(12, 4))\n",
        "plt.subplot(1, 2, 1)\n",
        "plt.plot(history.history['accuracy'], label='Akurasi Train')\n",
        "plt.plot(history.history['val_accuracy'], label='Akurasi Validasi')\n",
        "plt.legend()\n",
        "plt.title('Akurasi')\n",
        "\n",
        "plt.subplot(1, 2, 2)\n",
        "plt.plot(history.history['loss'], label='Loss Train')\n",
        "plt.plot(history.history['val_loss'], label='Loss Validasi')\n",
        "plt.legend()\n",
        "plt.title('Loss')\n",
        "plt.show()"
      ],
      "metadata": {
        "id": "9VC-Gueq3ah4",
        "outputId": "54a8503b-80ac-42f4-d125-ae09b7f13c4c",
        "colab": {
          "base_uri": "https://localhost:8080/",
          "height": 391
        }
      },
      "execution_count": 26,
      "outputs": [
        {
          "output_type": "display_data",
          "data": {
            "text/plain": [
              "<Figure size 1200x400 with 2 Axes>"
            ],
            "image/png": "[encoded data removed]"
          },
          "metadata": {}
        }
      ]
    },
    {
      "cell_type": "markdown",
      "source": [
        "## 11. Plot Akurasi & Loss Data"
      ],
      "metadata": {
        "id": "unKHxxae3zpv"
      }
    },
    {
      "cell_type": "code",
      "source": [
        "loss, accuracy = model.evaluate(X_test, y_test)\n",
        "print(f\"Akurasi: {accuracy*100:.2f}%\")"
      ],
      "metadata": {
        "id": "LHGEPPRL32nV",
        "outputId": "f4966fec-fd2c-4b59-f1a7-2e6b02ecbfce",
        "colab": {
          "base_uri": "https://localhost:8080/"
        }
      },
      "execution_count": 27,
      "outputs": [
        {
          "output_type": "stream",
          "name": "stdout",
          "text": [
            "\u001b[1m4/4\u001b[0m \u001b[32m━━━━━━━━━━━━━━━━━━━━\u001b[0m\u001b[37m\u001b[0m \u001b[1m0s\u001b[0m 71ms/step - accuracy: 0.9815 - loss: 0.1068\n",
            "Akurasi: 97.20%\n"
          ]
        }
      ]
    },
    {
      "cell_type": "markdown",
      "source": [
        "## 12. Labeling Data"
      ],
      "metadata": {
        "id": "KLsHnzrL8FTs"
      }
    },
    {
      "cell_type": "code",
      "source": [
        "df_copy = df.copy()"
      ],
      "metadata": {
        "id": "UqkVYQDZ8aYa"
      },
      "execution_count": 30,
      "outputs": []
    },
    {
      "cell_type": "code",
      "source": [
        "label = []\n",
        "for _, row in df.iterrows():\n",
        "    if row[\"favorite_count\"] > 50 and row[\"retweet_count\"] > 20 and row[\"reply_count\"] > 10:\n",
        "        label.append(1)  # High engagement\n",
        "    else:\n",
        "        label.append(0)  # Low engagement\n",
        "\n",
        "df[\"label\"] = label\n"
      ],
      "metadata": {
        "id": "9c8RENqR8Qk3"
      },
      "execution_count": 28,
      "outputs": []
    },
    {
      "cell_type": "code",
      "source": [
        "df_copy.head()"
      ],
      "metadata": {
        "id": "c8Og_xIE8Tma",
        "outputId": "83ecb069-27ca-40fc-9bc8-d3fcc3749a43",
        "colab": {
          "base_uri": "https://localhost:8080/",
          "height": 539
        }
      },
      "execution_count": 31,
      "outputs": [
        {
          "output_type": "execute_result",
          "data": {
            "text/plain": [
              "   conversation_id_str                      created_at  favorite_count  \\\n",
              "0  1879836598491373693  Thu Jan 16 15:01:17 +0000 2025              83   \n",
              "1  1877878634352189575  Sat Jan 11 00:42:23 +0000 2025             285   \n",
              "2  1879802051926061492  Thu Jan 16 08:05:08 +0000 2025             341   \n",
              "3  1877710820307530029  Fri Jan 10 15:50:21 +0000 2025             580   \n",
              "4  1879514323955126431  Wed Jan 15 13:01:49 +0000 2025               2   \n",
              "\n",
              "                                           full_text               id_str  \\\n",
              "0  @KangManto123 Si kontil ama pegawai BPJS aja k...  1879906777279729751   \n",
              "1  Apa yang salah dengan sistem BPJS kita?‍️ http...  1877878689352094137   \n",
              "2  BPJS Tak Bisa Tanggung Semua Pengobatan Menkes...  1879802051926061492   \n",
              "3  @worksfess Stop bilang kalo bpjs adalah benefi...  1877744797366280528   \n",
              "4  Ngantri berobat 3 jam cuma buat nunggu nama di...  1879514323955126431   \n",
              "\n",
              "                                         image_url in_reply_to_screen_name  \\\n",
              "0  https://pbs.twimg.com/media/GhbFQF3bIAA6aus.jpg            KangManto123   \n",
              "1  https://pbs.twimg.com/media/Gg-QtWAbcAA0ziJ.jpg                eexxoo_7   \n",
              "2  https://pbs.twimg.com/media/GhZl7eiakAA5l1i.jpg                     NaN   \n",
              "3                                              NaN               worksfess   \n",
              "4                                              NaN                     NaN   \n",
              "\n",
              "  lang                location  quote_count  reply_count  retweet_count  \\\n",
              "0   in                     NaN            2            6             24   \n",
              "1   in  DKI Jakarta, Indonesia            6           13             46   \n",
              "2   in                 Jakarta          182          486            148   \n",
              "3   in   Yogyakarta, Indonesia            0            5             12   \n",
              "4   in                     NaN            0            0              0   \n",
              "\n",
              "                                           tweet_url  user_id_str   username  \\\n",
              "0  https://x.com/rimba890/status/1879906777279729751   2700582162   rimba890   \n",
              "1  https://x.com/eexxoo_7/status/1877878689352094137   2511596892   eexxoo_7   \n",
              "2  https://x.com/kompascom/status/187980205192606...     23343960  kompascom   \n",
              "3  https://x.com/rnrfkhri/status/1877744797366280528   1642806133   rnrfkhri   \n",
              "4  https://x.com/bendol30/status/1879514323955126431    114376538   bendol30   \n",
              "\n",
              "                                        cleaned_text  \\\n",
              "0  si kontil ama pegawai bpjs aja kaga yg pake bp...   \n",
              "1                                  salah sistem bpjs   \n",
              "2  bpjs tanggung pengobatan menkes usul asuransi ...   \n",
              "3  stop bilang kalo bpjs benefit kewajiban perusa...   \n",
              "4  ngantri berobat jam nunggu nama dipanggil pas ...   \n",
              "\n",
              "                                        stemmed_text  label  \\\n",
              "0  si kontil ama pegawai bpjs aja kaga yg pake bp...      0   \n",
              "1                                  salah sistem bpjs      1   \n",
              "2  bpjs tanggung obat menkes usul asuransi swasta...      1   \n",
              "3      stop bilang kalo bpjs benefit wajib usaha btw      0   \n",
              "4  ngantri obat jam nunggu nama panggil pas perik...      0   \n",
              "\n",
              "                                       combined_text  \n",
              "0  si kontil ama pegawai bpjs aja kaga yg pake bp...  \n",
              "1  salah sistem bpjs Apa yang salah dengan sistem...  \n",
              "2  bpjs tanggung obat menkes usul asuransi swasta...  \n",
              "3  stop bilang kalo bpjs benefit wajib usaha btw ...  \n",
              "4  ngantri obat jam nunggu nama panggil pas perik...  "
            ],
            "text/html": [
              "\n",
              "  <div id=\"df-04cb631d-f6ce-4390-8e4e-efbbe4990b82\" class=\"colab-df-container\">\n",
              "    <div>\n",
              "<style scoped>\n",
              "    .dataframe tbody tr th:only-of-type {\n",
              "        vertical-align: middle;\n",
              "    }\n",
              "\n",
              "    .dataframe tbody tr th {\n",
              "        vertical-align: top;\n",
              "    }\n",
              "\n",
              "    .dataframe thead th {\n",
              "        text-align: right;\n",
              "    }\n",
              "</style>\n",
              "<table border=\"1\" class=\"dataframe\">\n",
              "  <thead>\n",
              "    <tr style=\"text-align: right;\">\n",
              "      <th></th>\n",
              "      <th>conversation_id_str</th>\n",
              "      <th>created_at</th>\n",
              "      <th>favorite_count</th>\n",
              "      <th>full_text</th>\n",
              "      <th>id_str</th>\n",
              "      <th>image_url</th>\n",
              "      <th>in_reply_to_screen_name</th>\n",
              "      <th>lang</th>\n",
              "      <th>location</th>\n",
              "      <th>quote_count</th>\n",
              "      <th>reply_count</th>\n",
              "      <th>retweet_count</th>\n",
              "      <th>tweet_url</th>\n",
              "      <th>user_id_str</th>\n",
              "      <th>username</th>\n",
              "      <th>cleaned_text</th>\n",
              "      <th>stemmed_text</th>\n",
              "      <th>label</th>\n",
              "      <th>combined_text</th>\n",
              "    </tr>\n",
              "  </thead>\n",
              "  <tbody>\n",
              "    <tr>\n",
              "      <th>0</th>\n",
              "      <td>1879836598491373693</td>\n",
              "      <td>Thu Jan 16 15:01:17 +0000 2025</td>\n",
              "      <td>83</td>\n",
              "      <td>@KangManto123 Si kontil ama pegawai BPJS aja k...</td>\n",
              "      <td>1879906777279729751</td>\n",
              "      <td>https://pbs.twimg.com/media/GhbFQF3bIAA6aus.jpg</td>\n",
              "      <td>KangManto123</td>\n",
              "      <td>in</td>\n",
              "      <td>NaN</td>\n",
              "      <td>2</td>\n",
              "      <td>6</td>\n",
              "      <td>24</td>\n",
              "      <td>https://x.com/rimba890/status/1879906777279729751</td>\n",
              "      <td>2700582162</td>\n",
              "      <td>rimba890</td>\n",
              "      <td>si kontil ama pegawai bpjs aja kaga yg pake bp...</td>\n",
              "      <td>si kontil ama pegawai bpjs aja kaga yg pake bp...</td>\n",
              "      <td>0</td>\n",
              "      <td>si kontil ama pegawai bpjs aja kaga yg pake bp...</td>\n",
              "    </tr>\n",
              "    <tr>\n",
              "      <th>1</th>\n",
              "      <td>1877878634352189575</td>\n",
              "      <td>Sat Jan 11 00:42:23 +0000 2025</td>\n",
              "      <td>285</td>\n",
              "      <td>Apa yang salah dengan sistem BPJS kita?‍️ http...</td>\n",
              "      <td>1877878689352094137</td>\n",
              "      <td>https://pbs.twimg.com/media/Gg-QtWAbcAA0ziJ.jpg</td>\n",
              "      <td>eexxoo_7</td>\n",
              "      <td>in</td>\n",
              "      <td>DKI Jakarta, Indonesia</td>\n",
              "      <td>6</td>\n",
              "      <td>13</td>\n",
              "      <td>46</td>\n",
              "      <td>https://x.com/eexxoo_7/status/1877878689352094137</td>\n",
              "      <td>2511596892</td>\n",
              "      <td>eexxoo_7</td>\n",
              "      <td>salah sistem bpjs</td>\n",
              "      <td>salah sistem bpjs</td>\n",
              "      <td>1</td>\n",
              "      <td>salah sistem bpjs Apa yang salah dengan sistem...</td>\n",
              "    </tr>\n",
              "    <tr>\n",
              "      <th>2</th>\n",
              "      <td>1879802051926061492</td>\n",
              "      <td>Thu Jan 16 08:05:08 +0000 2025</td>\n",
              "      <td>341</td>\n",
              "      <td>BPJS Tak Bisa Tanggung Semua Pengobatan Menkes...</td>\n",
              "      <td>1879802051926061492</td>\n",
              "      <td>https://pbs.twimg.com/media/GhZl7eiakAA5l1i.jpg</td>\n",
              "      <td>NaN</td>\n",
              "      <td>in</td>\n",
              "      <td>Jakarta</td>\n",
              "      <td>182</td>\n",
              "      <td>486</td>\n",
              "      <td>148</td>\n",
              "      <td>https://x.com/kompascom/status/187980205192606...</td>\n",
              "      <td>23343960</td>\n",
              "      <td>kompascom</td>\n",
              "      <td>bpjs tanggung pengobatan menkes usul asuransi ...</td>\n",
              "      <td>bpjs tanggung obat menkes usul asuransi swasta...</td>\n",
              "      <td>1</td>\n",
              "      <td>bpjs tanggung obat menkes usul asuransi swasta...</td>\n",
              "    </tr>\n",
              "    <tr>\n",
              "      <th>3</th>\n",
              "      <td>1877710820307530029</td>\n",
              "      <td>Fri Jan 10 15:50:21 +0000 2025</td>\n",
              "      <td>580</td>\n",
              "      <td>@worksfess Stop bilang kalo bpjs adalah benefi...</td>\n",
              "      <td>1877744797366280528</td>\n",
              "      <td>NaN</td>\n",
              "      <td>worksfess</td>\n",
              "      <td>in</td>\n",
              "      <td>Yogyakarta, Indonesia</td>\n",
              "      <td>0</td>\n",
              "      <td>5</td>\n",
              "      <td>12</td>\n",
              "      <td>https://x.com/rnrfkhri/status/1877744797366280528</td>\n",
              "      <td>1642806133</td>\n",
              "      <td>rnrfkhri</td>\n",
              "      <td>stop bilang kalo bpjs benefit kewajiban perusa...</td>\n",
              "      <td>stop bilang kalo bpjs benefit wajib usaha btw</td>\n",
              "      <td>0</td>\n",
              "      <td>stop bilang kalo bpjs benefit wajib usaha btw ...</td>\n",
              "    </tr>\n",
              "    <tr>\n",
              "      <th>4</th>\n",
              "      <td>1879514323955126431</td>\n",
              "      <td>Wed Jan 15 13:01:49 +0000 2025</td>\n",
              "      <td>2</td>\n",
              "      <td>Ngantri berobat 3 jam cuma buat nunggu nama di...</td>\n",
              "      <td>1879514323955126431</td>\n",
              "      <td>NaN</td>\n",
              "      <td>NaN</td>\n",
              "      <td>in</td>\n",
              "      <td>NaN</td>\n",
              "      <td>0</td>\n",
              "      <td>0</td>\n",
              "      <td>0</td>\n",
              "      <td>https://x.com/bendol30/status/1879514323955126431</td>\n",
              "      <td>114376538</td>\n",
              "      <td>bendol30</td>\n",
              "      <td>ngantri berobat jam nunggu nama dipanggil pas ...</td>\n",
              "      <td>ngantri obat jam nunggu nama panggil pas perik...</td>\n",
              "      <td>0</td>\n",
              "      <td>ngantri obat jam nunggu nama panggil pas perik...</td>\n",
              "    </tr>\n",
              "  </tbody>\n",
              "</table>\n",
              "</div>\n",
              "    <div class=\"colab-df-buttons\">\n",
              "\n",
              "  <div class=\"colab-df-container\">\n",
              "    <button class=\"colab-df-convert\" onclick=\"convertToInteractive('df-04cb631d-f6ce-4390-8e4e-efbbe4990b82')\"\n",
              "            title=\"Convert this dataframe to an interactive table.\"\n",
              "            style=\"display:none;\">\n",
              "\n",
              "  <svg xmlns=\"http://www.w3.org/2000/svg\" height=\"24px\" viewBox=\"0 -960 960 960\">\n",
              "    <path d=\"M120-120v-720h720v720H120Zm60-500h600v-160H180v160Zm220 220h160v-160H400v160Zm0 220h160v-160H400v160ZM180-400h160v-160H180v160Zm440 0h160v-160H620v160ZM180-180h160v-160H180v160Zm440 0h160v-160H620v160Z\"/>\n",
              "  </svg>\n",
              "    </button>\n",
              "\n",
              "  <style>\n",
              "    .colab-df-container {\n",
              "      display:flex;\n",
              "      gap: 12px;\n",
              "    }\n",
              "\n",
              "    .colab-df-convert {\n",
              "      background-color: #E8F0FE;\n",
              "      border: none;\n",
              "      border-radius: 50%;\n",
              "      cursor: pointer;\n",
              "      display: none;\n",
              "      fill: #1967D2;\n",
              "      height: 32px;\n",
              "      padding: 0 0 0 0;\n",
              "      width: 32px;\n",
              "    }\n",
              "\n",
              "    .colab-df-convert:hover {\n",
              "      background-color: #E2EBFA;\n",
              "      box-shadow: 0px 1px 2px rgba(60, 64, 67, 0.3), 0px 1px 3px 1px rgba(60, 64, 67, 0.15);\n",
              "      fill: #174EA6;\n",
              "    }\n",
              "\n",
              "    .colab-df-buttons div {\n",
              "      margin-bottom: 4px;\n",
              "    }\n",
              "\n",
              "    [theme=dark] .colab-df-convert {\n",
              "      background-color: #3B4455;\n",
              "      fill: #D2E3FC;\n",
              "    }\n",
              "\n",
              "    [theme=dark] .colab-df-convert:hover {\n",
              "      background-color: #434B5C;\n",
              "      box-shadow: 0px 1px 3px 1px rgba(0, 0, 0, 0.15);\n",
              "      filter: drop-shadow(0px 1px 2px rgba(0, 0, 0, 0.3));\n",
              "      fill: #FFFFFF;\n",
              "    }\n",
              "  </style>\n",
              "\n",
              "    <script>\n",
              "      const buttonEl =\n",
              "        document.querySelector('#df-04cb631d-f6ce-4390-8e4e-efbbe4990b82 button.colab-df-convert');\n",
              "      buttonEl.style.display =\n",
              "        google.colab.kernel.accessAllowed ? 'block' : 'none';\n",
              "\n",
              "      async function convertToInteractive(key) {\n",
              "        const element = document.querySelector('#df-04cb631d-f6ce-4390-8e4e-efbbe4990b82');\n",
              "        const dataTable =\n",
              "          await google.colab.kernel.invokeFunction('convertToInteractive',\n",
              "                                                    [key], {});\n",
              "        if (!dataTable) return;\n",
              "\n",
              "        const docLinkHtml = 'Like what you see? Visit the ' +\n",
              "          '<a target=\"_blank\" href=https://colab.research.google.com/notebooks/data_table.ipynb>data table notebook</a>'\n",
              "          + ' to learn more about interactive tables.';\n",
              "        element.innerHTML = '';\n",
              "        dataTable['output_type'] = 'display_data';\n",
              "        await google.colab.output.renderOutput(dataTable, element);\n",
              "        const docLink = document.createElement('div');\n",
              "        docLink.innerHTML = docLinkHtml;\n",
              "        element.appendChild(docLink);\n",
              "      }\n",
              "    </script>\n",
              "  </div>\n",
              "\n",
              "\n",
              "<div id=\"df-43a26373-e7c7-4b00-979c-65feb632cac0\">\n",
              "  <button class=\"colab-df-quickchart\" onclick=\"quickchart('df-43a26373-e7c7-4b00-979c-65feb632cac0')\"\n",
              "            title=\"Suggest charts\"\n",
              "            style=\"display:none;\">\n",
              "\n",
              "<svg xmlns=\"http://www.w3.org/2000/svg\" height=\"24px\"viewBox=\"0 0 24 24\"\n",
              "     width=\"24px\">\n",
              "    <g>\n",
              "        <path d=\"M19 3H5c-1.1 0-2 .9-2 2v14c0 1.1.9 2 2 2h14c1.1 0 2-.9 2-2V5c0-1.1-.9-2-2-2zM9 17H7v-7h2v7zm4 0h-2V7h2v10zm4 0h-2v-4h2v4z\"/>\n",
              "    </g>\n",
              "</svg>\n",
              "  </button>\n",
              "\n",
              "<style>\n",
              "  .colab-df-quickchart {\n",
              "      --bg-color: #E8F0FE;\n",
              "      --fill-color: #1967D2;\n",
              "      --hover-bg-color: #E2EBFA;\n",
              "      --hover-fill-color: #174EA6;\n",
              "      --disabled-fill-color: #AAA;\n",
              "      --disabled-bg-color: #DDD;\n",
              "  }\n",
              "\n",
              "  [theme=dark] .colab-df-quickchart {\n",
              "      --bg-color: #3B4455;\n",
              "      --fill-color: #D2E3FC;\n",
              "      --hover-bg-color: #434B5C;\n",
              "      --hover-fill-color: #FFFFFF;\n",
              "      --disabled-bg-color: #3B4455;\n",
              "      --disabled-fill-color: #666;\n",
              "  }\n",
              "\n",
              "  .colab-df-quickchart {\n",
              "    background-color: var(--bg-color);\n",
              "    border: none;\n",
              "    border-radius: 50%;\n",
              "    cursor: pointer;\n",
              "    display: none;\n",
              "    fill: var(--fill-color);\n",
              "    height: 32px;\n",
              "    padding: 0;\n",
              "    width: 32px;\n",
              "  }\n",
              "\n",
              "  .colab-df-quickchart:hover {\n",
              "    background-color: var(--hover-bg-color);\n",
              "    box-shadow: 0 1px 2px rgba(60, 64, 67, 0.3), 0 1px 3px 1px rgba(60, 64, 67, 0.15);\n",
              "    fill: var(--button-hover-fill-color);\n",
              "  }\n",
              "\n",
              "  .colab-df-quickchart-complete:disabled,\n",
              "  .colab-df-quickchart-complete:disabled:hover {\n",
              "    background-color: var(--disabled-bg-color);\n",
              "    fill: var(--disabled-fill-color);\n",
              "    box-shadow: none;\n",
              "  }\n",
              "\n",
              "  .colab-df-spinner {\n",
              "    border: 2px solid var(--fill-color);\n",
              "    border-color: transparent;\n",
              "    border-bottom-color: var(--fill-color);\n",
              "    animation:\n",
              "      spin 1s steps(1) infinite;\n",
              "  }\n",
              "\n",
              "  @keyframes spin {\n",
              "    0% {\n",
              "      border-color: transparent;\n",
              "      border-bottom-color: var(--fill-color);\n",
              "      border-left-color: var(--fill-color);\n",
              "    }\n",
              "    20% {\n",
              "      border-color: transparent;\n",
              "      border-left-color: var(--fill-color);\n",
              "      border-top-color: var(--fill-color);\n",
              "    }\n",
              "    30% {\n",
              "      border-color: transparent;\n",
              "      border-left-color: var(--fill-color);\n",
              "      border-top-color: var(--fill-color);\n",
              "      border-right-color: var(--fill-color);\n",
              "    }\n",
              "    40% {\n",
              "      border-color: transparent;\n",
              "      border-right-color: var(--fill-color);\n",
              "      border-top-color: var(--fill-color);\n",
              "    }\n",
              "    60% {\n",
              "      border-color: transparent;\n",
              "      border-right-color: var(--fill-color);\n",
              "    }\n",
              "    80% {\n",
              "      border-color: transparent;\n",
              "      border-right-color: var(--fill-color);\n",
              "      border-bottom-color: var(--fill-color);\n",
              "    }\n",
              "    90% {\n",
              "      border-color: transparent;\n",
              "      border-bottom-color: var(--fill-color);\n",
              "    }\n",
              "  }\n",
              "</style>\n",
              "\n",
              "  <script>\n",
              "    async function quickchart(key) {\n",
              "      const quickchartButtonEl =\n",
              "        document.querySelector('#' + key + ' button');\n",
              "      quickchartButtonEl.disabled = true;  // To prevent multiple clicks.\n",
              "      quickchartButtonEl.classList.add('colab-df-spinner');\n",
              "      try {\n",
              "        const charts = await google.colab.kernel.invokeFunction(\n",
              "            'suggestCharts', [key], {});\n",
              "      } catch (error) {\n",
              "        console.error('Error during call to suggestCharts:', error);\n",
              "      }\n",
              "      quickchartButtonEl.classList.remove('colab-df-spinner');\n",
              "      quickchartButtonEl.classList.add('colab-df-quickchart-complete');\n",
              "    }\n",
              "    (() => {\n",
              "      let quickchartButtonEl =\n",
              "        document.querySelector('#df-43a26373-e7c7-4b00-979c-65feb632cac0 button');\n",
              "      quickchartButtonEl.style.display =\n",
              "        google.colab.kernel.accessAllowed ? 'block' : 'none';\n",
              "    })();\n",
              "  </script>\n",
              "</div>\n",
              "\n",
              "    </div>\n",
              "  </div>\n"
            ],
            "application/vnd.google.colaboratory.intrinsic+json": {
              "type": "dataframe",
              "variable_name": "df_copy",
              "summary": "{\n  \"name\": \"df_copy\",\n  \"rows\": 531,\n  \"fields\": [\n    {\n      \"column\": \"conversation_id_str\",\n      \"properties\": {\n        \"dtype\": \"number\",\n        \"std\": 4574000223415523,\n        \"min\": 1834964980023615911,\n        \"max\": 1880976122747159028,\n        \"num_unique_values\": 376,\n        \"samples\": [\n          1846049124292219073,\n          1877630056102797313,\n          1877739109093171711\n        ],\n        \"semantic_type\": \"\",\n        \"description\": \"\"\n      }\n    },\n    {\n      \"column\": \"created_at\",\n      \"properties\": {\n        \"dtype\": \"object\",\n        \"num_unique_values\": 531,\n        \"samples\": [\n          \"Fri Jan 10 03:29:55 +0000 2025\",\n          \"Fri Jan 17 07:14:55 +0000 2025\",\n          \"Tue Jan 07 08:46:00 +0000 2025\"\n        ],\n        \"semantic_type\": \"\",\n        \"description\": \"\"\n      }\n    },\n    {\n      \"column\": \"favorite_count\",\n      \"properties\": {\n        \"dtype\": \"number\",\n        \"std\": 375,\n        \"min\": 0,\n        \"max\": 5170,\n        \"num_unique_values\": 105,\n        \"samples\": [\n          135,\n          49,\n          71\n        ],\n        \"semantic_type\": \"\",\n        \"description\": \"\"\n      }\n    },\n    {\n      \"column\": \"full_text\",\n      \"properties\": {\n        \"dtype\": \"string\",\n        \"num_unique_values\": 530,\n        \"samples\": [\n          \"Menteri Kesehatan Budi Gunadi Sadikin mengatakan pelayanan Badan Penyelenggara Jaminan Sosial (BPJS) kesehatan saat ini belum sempurna. Menurut dia tidak semua pengobatan penyakit bisa ditanggung oleh BPJS karena iuran BPJS sangat rendah. #tempodotco https://t.co/Mn7NXgOZgq\",\n          \"@apralzolam Sebenernya ini bisa jadi bisnis sampingan yayasan/Perusahaan pemilik RS: bikin klinik Pratama 24 jam di salah satu space kosong di RS kerjasama dengan BPJS kalo ada pasien yg ga gadar diarahkan kesana. Done!\",\n          \"@_haye_ udh cek berita baru dari pernyataan menkes blm yg nyuruh peserta bpjs utk ikut asuransi swasta juga.. klo udh ikut asuransi swasta ngapain jg tiap bulan masih harus bayar ke bpjs wkwkwkw bener2 lawak\"\n        ],\n        \"semantic_type\": \"\",\n        \"description\": \"\"\n      }\n    },\n    {\n      \"column\": \"id_str\",\n      \"properties\": {\n        \"dtype\": \"number\",\n        \"std\": 2126268983470426,\n        \"min\": 1857331955001336257,\n        \"max\": 1880976122747159028,\n        \"num_unique_values\": 531,\n        \"samples\": [\n          1877558464446345628,\n          1880151801066057777,\n          1876550842968396048\n        ],\n        \"semantic_type\": \"\",\n        \"description\": \"\"\n      }\n    },\n    {\n      \"column\": \"image_url\",\n      \"properties\": {\n        \"dtype\": \"category\",\n        \"num_unique_values\": 77,\n        \"samples\": [\n          \"https://pbs.twimg.com/media/GhOatXXaQAAJGjI.jpg\",\n          \"https://pbs.twimg.com/media/GheVVBPa8AACVRH.jpg\",\n          \"https://pbs.twimg.com/media/GhZiyddbkAACdZ3.jpg\"\n        ],\n        \"semantic_type\": \"\",\n        \"description\": \"\"\n      }\n    },\n    {\n      \"column\": \"in_reply_to_screen_name\",\n      \"properties\": {\n        \"dtype\": \"category\",\n        \"num_unique_values\": 182,\n        \"samples\": [\n          \"apralzolam\",\n          \"romeogadungan\",\n          \"nitaa456\"\n        ],\n        \"semantic_type\": \"\",\n        \"description\": \"\"\n      }\n    },\n    {\n      \"column\": \"lang\",\n      \"properties\": {\n        \"dtype\": \"category\",\n        \"num_unique_values\": 2,\n        \"samples\": [\n          \"en\",\n          \"in\"\n        ],\n        \"semantic_type\": \"\",\n        \"description\": \"\"\n      }\n    },\n    {\n      \"column\": \"location\",\n      \"properties\": {\n        \"dtype\": \"category\",\n        \"num_unique_values\": 158,\n        \"samples\": [\n          \"malang\",\n          \"Central Java, Indonesia\"\n        ],\n        \"semantic_type\": \"\",\n        \"description\": \"\"\n      }\n    },\n    {\n      \"column\": \"quote_count\",\n      \"properties\": {\n        \"dtype\": \"number\",\n        \"std\": 86,\n        \"min\": 0,\n        \"max\": 1769,\n        \"num_unique_values\": 22,\n        \"samples\": [\n          2,\n          1769\n        ],\n        \"semantic_type\": \"\",\n        \"description\": \"\"\n      }\n    },\n    {\n      \"column\": \"reply_count\",\n      \"properties\": {\n        \"dtype\": \"number\",\n        \"std\": 67,\n        \"min\": 0,\n        \"max\": 1163,\n        \"num_unique_values\": 49,\n        \"samples\": [\n          161,\n          326\n        ],\n        \"semantic_type\": \"\",\n        \"description\": \"\"\n      }\n    },\n    {\n      \"column\": \"retweet_count\",\n      \"properties\": {\n        \"dtype\": \"number\",\n        \"std\": 68,\n        \"min\": 0,\n        \"max\": 952,\n        \"num_unique_values\": 50,\n        \"samples\": [\n          26,\n          262\n        ],\n        \"semantic_type\": \"\",\n        \"description\": \"\"\n      }\n    },\n    {\n      \"column\": \"tweet_url\",\n      \"properties\": {\n        \"dtype\": \"string\",\n        \"num_unique_values\": 531,\n        \"samples\": [\n          \"https://x.com/kistme_/status/1877558464446345628\",\n          \"https://x.com/ezha0105/status/1880151801066057777\"\n        ],\n        \"semantic_type\": \"\",\n        \"description\": \"\"\n      }\n    },\n    {\n      \"column\": \"user_id_str\",\n      \"properties\": {\n        \"dtype\": \"number\",\n        \"std\": 707395778623275264,\n        \"min\": 16945033,\n        \"max\": 1866658491576016896,\n        \"num_unique_values\": 352,\n        \"samples\": [\n          85495565,\n          1001210415576039424\n        ],\n        \"semantic_type\": \"\",\n        \"description\": \"\"\n      }\n    },\n    {\n      \"column\": \"username\",\n      \"properties\": {\n        \"dtype\": \"string\",\n        \"num_unique_values\": 352,\n        \"samples\": [\n          \"yesmar_banu\",\n          \"realllllwawa\"\n        ],\n        \"semantic_type\": \"\",\n        \"description\": \"\"\n      }\n    },\n    {\n      \"column\": \"cleaned_text\",\n      \"properties\": {\n        \"dtype\": \"string\",\n        \"num_unique_values\": 524,\n        \"samples\": [\n          \"emisi kesehata terganggu biaya kuratif bpjs tersedot kesana emisi bencana hidrologi kerugian yg diderita milyar usd mengurangi emisi elektrifikasi fossil base salah renewable energy berubah listrik\",\n          \"nih yg bikin males kalo berobat pake bpjs\"\n        ],\n        \"semantic_type\": \"\",\n        \"description\": \"\"\n      }\n    },\n    {\n      \"column\": \"stemmed_text\",\n      \"properties\": {\n        \"dtype\": \"string\",\n        \"num_unique_values\": 524,\n        \"samples\": [\n          \"emisi kesehata ganggu biaya kuratif bpjs sedot kesana emisi bencana hidrologi rugi yg derita milyar usd kurang emisi elektrifikasi fossil base salah renewable energy ubah listrik\",\n          \"nih yg bikin males kalo obat pake bpjs\"\n        ],\n        \"semantic_type\": \"\",\n        \"description\": \"\"\n      }\n    },\n    {\n      \"column\": \"label\",\n      \"properties\": {\n        \"dtype\": \"number\",\n        \"std\": 0,\n        \"min\": 0,\n        \"max\": 1,\n        \"num_unique_values\": 2,\n        \"samples\": [\n          1,\n          0\n        ],\n        \"semantic_type\": \"\",\n        \"description\": \"\"\n      }\n    },\n    {\n      \"column\": \"combined_text\",\n      \"properties\": {\n        \"dtype\": \"string\",\n        \"num_unique_values\": 530,\n        \"samples\": [\n          \"menteri sehat budi gunadi sadikin layan badan selenggara jamin sosial bpjs sehat sempurna obat sakit tanggung bpjs iur bpjs rendah tempodotco Menteri Kesehatan Budi Gunadi Sadikin mengatakan pelayanan Badan Penyelenggara Jaminan Sosial (BPJS) kesehatan saat ini belum sempurna. Menurut dia tidak semua pengobatan penyakit bisa ditanggung oleh BPJS karena iuran BPJS sangat rendah. #tempodotco https://t.co/Mn7NXgOZgq\",\n          \"sebenernya bisnis samping yayasanperusahaan milik rs bikin klinik pratama jam salah space kosong rs kerjasama bpjs kalo pasien yg ga gadar arah kesana done @apralzolam Sebenernya ini bisa jadi bisnis sampingan yayasan/Perusahaan pemilik RS: bikin klinik Pratama 24 jam di salah satu space kosong di RS kerjasama dengan BPJS kalo ada pasien yg ga gadar diarahkan kesana. Done!\"\n        ],\n        \"semantic_type\": \"\",\n        \"description\": \"\"\n      }\n    }\n  ]\n}"
            }
          },
          "metadata": {},
          "execution_count": 31
        }
      ]
    },
    {
      "cell_type": "markdown",
      "source": [
        "## 13. Labeling Data Per Kalimat"
      ],
      "metadata": {
        "id": "3G71YFFEEb7j"
      }
    },
    {
      "cell_type": "code",
      "source": [
        "import pandas as pd\n",
        "import string\n",
        "import re\n",
        "\n",
        "df = pd.read_csv(\"/content/sentiment_analysis_bpjs.csv\")\n",
        "\n",
        "negative_keywords = [\"jelek\", \"gagal\", \"buruk\", \"salah\", \"benci\", \"lambat\", \"tidak puas\", \"kecewa\", \"mencekam\"]\n",
        "neutral_keywords = [\"oke\", \"cukup\", \"biasa\", \"standar\", \"lumayan\"]\n",
        "positive_keywords = [\"bagus\", \"sukses\", \"luar biasa\", \"hebat\", \"senang\", \"puas\", \"memuaskan\", \"terbaik\"]\n",
        "\n",
        "def preprocess_text(text):\n",
        "    text = re.sub(r'http\\S+|www\\S+', '', text)\n",
        "    text = text.translate(str.maketrans('', '', string.punctuation))\n",
        "    text = re.sub(r'\\s+', ' ', text).strip()\n",
        "    return text.lower()\n",
        "\n",
        "def label_sentiment(text):\n",
        "    if not text:\n",
        "        return \"Tidak Diketahui\"\n",
        "\n",
        "    text = preprocess_text(text)\n",
        "\n",
        "    if any(word in text for word in negative_keywords):\n",
        "        return \"Negatif\"\n",
        "    elif any(word in text for word in neutral_keywords):\n",
        "        return \"Netral\"\n",
        "    elif any(word in text for word in positive_keywords):\n",
        "        return \"Positif\"\n",
        "    else:\n",
        "        return \"Tidak Diketahui\"\n",
        "\n",
        "df[\"hasil_sentimen\"] = df[\"text\"].apply(label_sentiment)\n",
        "\n",
        "df.to_csv(\"/content/sentiment_analysis_labels.csv\", index=False)\n",
        "\n",
        "print(df.head())\n"
      ],
      "metadata": {
        "id": "d2zExtnQEjCP",
        "outputId": "4cf7064a-8407-484c-d34e-b710b98cdc5d",
        "colab": {
          "base_uri": "https://localhost:8080/"
        }
      },
      "execution_count": 38,
      "outputs": [
        {
          "output_type": "stream",
          "name": "stdout",
          "text": [
            "   conversation_id_str                      created_at  favorite_count  \\\n",
            "0  1879836598491373693  Thu Jan 16 15:01:17 +0000 2025              83   \n",
            "1  1877878634352189575  Sat Jan 11 00:42:23 +0000 2025             285   \n",
            "2  1879802051926061492  Thu Jan 16 08:05:08 +0000 2025             341   \n",
            "3  1877710820307530029  Fri Jan 10 15:50:21 +0000 2025             580   \n",
            "4  1879514323955126431  Wed Jan 15 13:01:49 +0000 2025               2   \n",
            "\n",
            "                                                text               id_str  \\\n",
            "0  @KangManto123 Si kontil ama pegawai BPJS aja k...  1879906777279729751   \n",
            "1  Apa yang salah dengan sistem BPJS kita?‍️ http...  1877878689352094137   \n",
            "2  BPJS Tak Bisa Tanggung Semua Pengobatan Menkes...  1879802051926061492   \n",
            "3  @worksfess Stop bilang kalo bpjs adalah benefi...  1877744797366280528   \n",
            "4  Ngantri berobat 3 jam cuma buat nunggu nama di...  1879514323955126431   \n",
            "\n",
            "                                         image_url in_reply_to_screen_name  \\\n",
            "0  https://pbs.twimg.com/media/GhbFQF3bIAA6aus.jpg            KangManto123   \n",
            "1  https://pbs.twimg.com/media/Gg-QtWAbcAA0ziJ.jpg                eexxoo_7   \n",
            "2  https://pbs.twimg.com/media/GhZl7eiakAA5l1i.jpg                     NaN   \n",
            "3                                              NaN               worksfess   \n",
            "4                                              NaN                     NaN   \n",
            "\n",
            "  lang                location  quote_count  reply_count  retweet_count  \\\n",
            "0   in                     NaN            2            6             24   \n",
            "1   in  DKI Jakarta, Indonesia            6           13             46   \n",
            "2   in                 Jakarta          182          486            148   \n",
            "3   in   Yogyakarta, Indonesia            0            5             12   \n",
            "4   in                     NaN            0            0              0   \n",
            "\n",
            "                                           tweet_url  user_id_str   username  \\\n",
            "0  https://x.com/rimba890/status/1879906777279729751   2700582162   rimba890   \n",
            "1  https://x.com/eexxoo_7/status/1877878689352094137   2511596892   eexxoo_7   \n",
            "2  https://x.com/kompascom/status/187980205192606...     23343960  kompascom   \n",
            "3  https://x.com/rnrfkhri/status/1877744797366280528   1642806133   rnrfkhri   \n",
            "4  https://x.com/bendol30/status/1879514323955126431    114376538   bendol30   \n",
            "\n",
            "    hasil_sentimen  \n",
            "0  Tidak Diketahui  \n",
            "1          Negatif  \n",
            "2  Tidak Diketahui  \n",
            "3  Tidak Diketahui  \n",
            "4  Tidak Diketahui  \n"
          ]
        }
      ]
    }
  ]
}